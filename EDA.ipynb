{
 "cells": [
  {
   "attachments": {},
   "cell_type": "markdown",
   "metadata": {},
   "source": [
    "### DATATHON HENRY "
   ]
  },
  {
   "attachments": {},
   "cell_type": "markdown",
   "metadata": {},
   "source": [
    "Librerias a utilizar: "
   ]
  },
  {
   "cell_type": "code",
   "execution_count": 1,
   "metadata": {},
   "outputs": [],
   "source": [
    "### Librerias\n",
    "import pandas as pd\n",
    "import numpy as np\n",
    "\n",
    "### Data load (Lecutra del archivo \"parquet\")\n",
    "import pyarrow.parquet as pq \n",
    "\n",
    "### Plott\n",
    "import matplotlib.pyplot as plt\n",
    "import seaborn as sns\n"
   ]
  },
  {
   "attachments": {},
   "cell_type": "markdown",
   "metadata": {},
   "source": [
    "Carga de dataset de entrenamiento:"
   ]
  },
  {
   "cell_type": "code",
   "execution_count": 2,
   "metadata": {},
   "outputs": [],
   "source": [
    "train = pq.read_table(r'.\\datasets\\raw\\train.parquet')"
   ]
  },
  {
   "cell_type": "code",
   "execution_count": 3,
   "metadata": {},
   "outputs": [],
   "source": [
    "train = train.to_pandas()"
   ]
  },
  {
   "attachments": {},
   "cell_type": "markdown",
   "metadata": {},
   "source": [
    "Dimensiones y primer approach al contenido del dataset"
   ]
  },
  {
   "cell_type": "code",
   "execution_count": 4,
   "metadata": {},
   "outputs": [
    {
     "data": {
      "text/plain": [
       "(346479, 22)"
      ]
     },
     "execution_count": 4,
     "metadata": {},
     "output_type": "execute_result"
    }
   ],
   "source": [
    "train.shape"
   ]
  },
  {
   "cell_type": "code",
   "execution_count": 5,
   "metadata": {},
   "outputs": [
    {
     "data": {
      "text/html": [
       "<div>\n",
       "<style scoped>\n",
       "    .dataframe tbody tr th:only-of-type {\n",
       "        vertical-align: middle;\n",
       "    }\n",
       "\n",
       "    .dataframe tbody tr th {\n",
       "        vertical-align: top;\n",
       "    }\n",
       "\n",
       "    .dataframe thead th {\n",
       "        text-align: right;\n",
       "    }\n",
       "</style>\n",
       "<table border=\"1\" class=\"dataframe\">\n",
       "  <thead>\n",
       "    <tr style=\"text-align: right;\">\n",
       "      <th></th>\n",
       "      <th>id</th>\n",
       "      <th>url</th>\n",
       "      <th>region</th>\n",
       "      <th>region_url</th>\n",
       "      <th>price</th>\n",
       "      <th>type</th>\n",
       "      <th>sqfeet</th>\n",
       "      <th>beds</th>\n",
       "      <th>baths</th>\n",
       "      <th>cats_allowed</th>\n",
       "    </tr>\n",
       "  </thead>\n",
       "  <tbody>\n",
       "    <tr>\n",
       "      <th>329006</th>\n",
       "      <td>7034496173</td>\n",
       "      <td>https://vermont.craigslist.org/apa/d/burlingto...</td>\n",
       "      <td>vermont</td>\n",
       "      <td>https://vermont.craigslist.org</td>\n",
       "      <td>1850</td>\n",
       "      <td>apartment</td>\n",
       "      <td>1050</td>\n",
       "      <td>1</td>\n",
       "      <td>1.0</td>\n",
       "      <td>1</td>\n",
       "    </tr>\n",
       "    <tr>\n",
       "      <th>190522</th>\n",
       "      <td>7049137672</td>\n",
       "      <td>https://charlotte.craigslist.org/apa/d/charlot...</td>\n",
       "      <td>charlotte</td>\n",
       "      <td>https://charlotte.craigslist.org</td>\n",
       "      <td>1099</td>\n",
       "      <td>apartment</td>\n",
       "      <td>624</td>\n",
       "      <td>1</td>\n",
       "      <td>1.0</td>\n",
       "      <td>1</td>\n",
       "    </tr>\n",
       "    <tr>\n",
       "      <th>320605</th>\n",
       "      <td>7049325574</td>\n",
       "      <td>https://omaha.craigslist.org/apa/d/omaha-newly...</td>\n",
       "      <td>omaha / council bluffs</td>\n",
       "      <td>https://omaha.craigslist.org</td>\n",
       "      <td>1110</td>\n",
       "      <td>apartment</td>\n",
       "      <td>1170</td>\n",
       "      <td>2</td>\n",
       "      <td>2.0</td>\n",
       "      <td>0</td>\n",
       "    </tr>\n",
       "    <tr>\n",
       "      <th>205177</th>\n",
       "      <td>7025720938</td>\n",
       "      <td>https://columbia.craigslist.org/apa/d/columbia...</td>\n",
       "      <td>columbia</td>\n",
       "      <td>https://columbia.craigslist.org</td>\n",
       "      <td>899</td>\n",
       "      <td>apartment</td>\n",
       "      <td>1023</td>\n",
       "      <td>3</td>\n",
       "      <td>2.0</td>\n",
       "      <td>1</td>\n",
       "    </tr>\n",
       "    <tr>\n",
       "      <th>240229</th>\n",
       "      <td>7046976901</td>\n",
       "      <td>https://ogden.craigslist.org/apa/d/kaysville-b...</td>\n",
       "      <td>ogden-clearfield</td>\n",
       "      <td>https://ogden.craigslist.org</td>\n",
       "      <td>960</td>\n",
       "      <td>apartment</td>\n",
       "      <td>801</td>\n",
       "      <td>2</td>\n",
       "      <td>1.0</td>\n",
       "      <td>1</td>\n",
       "    </tr>\n",
       "    <tr>\n",
       "      <th>250540</th>\n",
       "      <td>7035940586</td>\n",
       "      <td>https://treasure.craigslist.org/apa/d/port-sai...</td>\n",
       "      <td>treasure coast</td>\n",
       "      <td>https://treasure.craigslist.org</td>\n",
       "      <td>1519</td>\n",
       "      <td>townhouse</td>\n",
       "      <td>1407</td>\n",
       "      <td>3</td>\n",
       "      <td>3.0</td>\n",
       "      <td>1</td>\n",
       "    </tr>\n",
       "    <tr>\n",
       "      <th>136554</th>\n",
       "      <td>7049779028</td>\n",
       "      <td>https://sanmarcos.craigslist.org/apa/d/seguin-...</td>\n",
       "      <td>san marcos</td>\n",
       "      <td>https://sanmarcos.craigslist.org</td>\n",
       "      <td>1079</td>\n",
       "      <td>apartment</td>\n",
       "      <td>876</td>\n",
       "      <td>2</td>\n",
       "      <td>2.0</td>\n",
       "      <td>1</td>\n",
       "    </tr>\n",
       "    <tr>\n",
       "      <th>175188</th>\n",
       "      <td>7041383308</td>\n",
       "      <td>https://dayton.craigslist.org/apa/d/dayton-wow...</td>\n",
       "      <td>dayton / springfield</td>\n",
       "      <td>https://dayton.craigslist.org</td>\n",
       "      <td>779</td>\n",
       "      <td>apartment</td>\n",
       "      <td>1050</td>\n",
       "      <td>2</td>\n",
       "      <td>1.5</td>\n",
       "      <td>1</td>\n",
       "    </tr>\n",
       "    <tr>\n",
       "      <th>102761</th>\n",
       "      <td>7024620742</td>\n",
       "      <td>https://watertown.craigslist.org/apa/d/sackets...</td>\n",
       "      <td>watertown</td>\n",
       "      <td>https://watertown.craigslist.org</td>\n",
       "      <td>950</td>\n",
       "      <td>apartment</td>\n",
       "      <td>840</td>\n",
       "      <td>2</td>\n",
       "      <td>1.0</td>\n",
       "      <td>1</td>\n",
       "    </tr>\n",
       "    <tr>\n",
       "      <th>210990</th>\n",
       "      <td>7050009730</td>\n",
       "      <td>https://inlandempire.craigslist.org/apa/d/coro...</td>\n",
       "      <td>inland empire</td>\n",
       "      <td>https://inlandempire.craigslist.org</td>\n",
       "      <td>1890</td>\n",
       "      <td>apartment</td>\n",
       "      <td>901</td>\n",
       "      <td>1</td>\n",
       "      <td>1.0</td>\n",
       "      <td>1</td>\n",
       "    </tr>\n",
       "  </tbody>\n",
       "</table>\n",
       "</div>"
      ],
      "text/plain": [
       "                id                                                url  \\\n",
       "329006  7034496173  https://vermont.craigslist.org/apa/d/burlingto...   \n",
       "190522  7049137672  https://charlotte.craigslist.org/apa/d/charlot...   \n",
       "320605  7049325574  https://omaha.craigslist.org/apa/d/omaha-newly...   \n",
       "205177  7025720938  https://columbia.craigslist.org/apa/d/columbia...   \n",
       "240229  7046976901  https://ogden.craigslist.org/apa/d/kaysville-b...   \n",
       "250540  7035940586  https://treasure.craigslist.org/apa/d/port-sai...   \n",
       "136554  7049779028  https://sanmarcos.craigslist.org/apa/d/seguin-...   \n",
       "175188  7041383308  https://dayton.craigslist.org/apa/d/dayton-wow...   \n",
       "102761  7024620742  https://watertown.craigslist.org/apa/d/sackets...   \n",
       "210990  7050009730  https://inlandempire.craigslist.org/apa/d/coro...   \n",
       "\n",
       "                        region                           region_url  price  \\\n",
       "329006                 vermont       https://vermont.craigslist.org   1850   \n",
       "190522               charlotte     https://charlotte.craigslist.org   1099   \n",
       "320605  omaha / council bluffs         https://omaha.craigslist.org   1110   \n",
       "205177                columbia      https://columbia.craigslist.org    899   \n",
       "240229        ogden-clearfield         https://ogden.craigslist.org    960   \n",
       "250540          treasure coast      https://treasure.craigslist.org   1519   \n",
       "136554              san marcos     https://sanmarcos.craigslist.org   1079   \n",
       "175188    dayton / springfield        https://dayton.craigslist.org    779   \n",
       "102761               watertown     https://watertown.craigslist.org    950   \n",
       "210990           inland empire  https://inlandempire.craigslist.org   1890   \n",
       "\n",
       "             type  sqfeet  beds  baths  cats_allowed  \n",
       "329006  apartment    1050     1    1.0             1  \n",
       "190522  apartment     624     1    1.0             1  \n",
       "320605  apartment    1170     2    2.0             0  \n",
       "205177  apartment    1023     3    2.0             1  \n",
       "240229  apartment     801     2    1.0             1  \n",
       "250540  townhouse    1407     3    3.0             1  \n",
       "136554  apartment     876     2    2.0             1  \n",
       "175188  apartment    1050     2    1.5             1  \n",
       "102761  apartment     840     2    1.0             1  \n",
       "210990  apartment     901     1    1.0             1  "
      ]
     },
     "execution_count": 5,
     "metadata": {},
     "output_type": "execute_result"
    }
   ],
   "source": [
    "#Con fines practicos realizamos una particion para conocer las distintas columnas del DF\n",
    "train.iloc[:,0:10].sample(10)"
   ]
  },
  {
   "cell_type": "code",
   "execution_count": 6,
   "metadata": {},
   "outputs": [
    {
     "data": {
      "text/html": [
       "<div>\n",
       "<style scoped>\n",
       "    .dataframe tbody tr th:only-of-type {\n",
       "        vertical-align: middle;\n",
       "    }\n",
       "\n",
       "    .dataframe tbody tr th {\n",
       "        vertical-align: top;\n",
       "    }\n",
       "\n",
       "    .dataframe thead th {\n",
       "        text-align: right;\n",
       "    }\n",
       "</style>\n",
       "<table border=\"1\" class=\"dataframe\">\n",
       "  <thead>\n",
       "    <tr style=\"text-align: right;\">\n",
       "      <th></th>\n",
       "      <th>dogs_allowed</th>\n",
       "      <th>smoking_allowed</th>\n",
       "      <th>wheelchair_access</th>\n",
       "      <th>electric_vehicle_charge</th>\n",
       "      <th>comes_furnished</th>\n",
       "      <th>laundry_options</th>\n",
       "      <th>parking_options</th>\n",
       "    </tr>\n",
       "  </thead>\n",
       "  <tbody>\n",
       "    <tr>\n",
       "      <th>196160</th>\n",
       "      <td>1</td>\n",
       "      <td>0</td>\n",
       "      <td>0</td>\n",
       "      <td>0</td>\n",
       "      <td>0</td>\n",
       "      <td>laundry on site</td>\n",
       "      <td>off-street parking</td>\n",
       "    </tr>\n",
       "    <tr>\n",
       "      <th>160531</th>\n",
       "      <td>1</td>\n",
       "      <td>1</td>\n",
       "      <td>0</td>\n",
       "      <td>0</td>\n",
       "      <td>0</td>\n",
       "      <td>laundry in bldg</td>\n",
       "      <td>off-street parking</td>\n",
       "    </tr>\n",
       "    <tr>\n",
       "      <th>331318</th>\n",
       "      <td>1</td>\n",
       "      <td>1</td>\n",
       "      <td>0</td>\n",
       "      <td>0</td>\n",
       "      <td>0</td>\n",
       "      <td>None</td>\n",
       "      <td>None</td>\n",
       "    </tr>\n",
       "    <tr>\n",
       "      <th>275338</th>\n",
       "      <td>0</td>\n",
       "      <td>0</td>\n",
       "      <td>0</td>\n",
       "      <td>0</td>\n",
       "      <td>1</td>\n",
       "      <td>laundry in bldg</td>\n",
       "      <td>off-street parking</td>\n",
       "    </tr>\n",
       "    <tr>\n",
       "      <th>43086</th>\n",
       "      <td>0</td>\n",
       "      <td>1</td>\n",
       "      <td>0</td>\n",
       "      <td>0</td>\n",
       "      <td>0</td>\n",
       "      <td>None</td>\n",
       "      <td>None</td>\n",
       "    </tr>\n",
       "    <tr>\n",
       "      <th>330686</th>\n",
       "      <td>1</td>\n",
       "      <td>1</td>\n",
       "      <td>0</td>\n",
       "      <td>0</td>\n",
       "      <td>0</td>\n",
       "      <td>w/d in unit</td>\n",
       "      <td>None</td>\n",
       "    </tr>\n",
       "    <tr>\n",
       "      <th>83450</th>\n",
       "      <td>1</td>\n",
       "      <td>1</td>\n",
       "      <td>0</td>\n",
       "      <td>0</td>\n",
       "      <td>0</td>\n",
       "      <td>laundry on site</td>\n",
       "      <td>attached garage</td>\n",
       "    </tr>\n",
       "    <tr>\n",
       "      <th>324410</th>\n",
       "      <td>1</td>\n",
       "      <td>1</td>\n",
       "      <td>0</td>\n",
       "      <td>0</td>\n",
       "      <td>0</td>\n",
       "      <td>laundry in bldg</td>\n",
       "      <td>off-street parking</td>\n",
       "    </tr>\n",
       "    <tr>\n",
       "      <th>80065</th>\n",
       "      <td>0</td>\n",
       "      <td>1</td>\n",
       "      <td>0</td>\n",
       "      <td>0</td>\n",
       "      <td>0</td>\n",
       "      <td>None</td>\n",
       "      <td>None</td>\n",
       "    </tr>\n",
       "    <tr>\n",
       "      <th>149599</th>\n",
       "      <td>1</td>\n",
       "      <td>0</td>\n",
       "      <td>0</td>\n",
       "      <td>0</td>\n",
       "      <td>0</td>\n",
       "      <td>laundry on site</td>\n",
       "      <td>None</td>\n",
       "    </tr>\n",
       "  </tbody>\n",
       "</table>\n",
       "</div>"
      ],
      "text/plain": [
       "        dogs_allowed  smoking_allowed  wheelchair_access  \\\n",
       "196160             1                0                  0   \n",
       "160531             1                1                  0   \n",
       "331318             1                1                  0   \n",
       "275338             0                0                  0   \n",
       "43086              0                1                  0   \n",
       "330686             1                1                  0   \n",
       "83450              1                1                  0   \n",
       "324410             1                1                  0   \n",
       "80065              0                1                  0   \n",
       "149599             1                0                  0   \n",
       "\n",
       "        electric_vehicle_charge  comes_furnished  laundry_options  \\\n",
       "196160                        0                0  laundry on site   \n",
       "160531                        0                0  laundry in bldg   \n",
       "331318                        0                0             None   \n",
       "275338                        0                1  laundry in bldg   \n",
       "43086                         0                0             None   \n",
       "330686                        0                0      w/d in unit   \n",
       "83450                         0                0  laundry on site   \n",
       "324410                        0                0  laundry in bldg   \n",
       "80065                         0                0             None   \n",
       "149599                        0                0  laundry on site   \n",
       "\n",
       "           parking_options  \n",
       "196160  off-street parking  \n",
       "160531  off-street parking  \n",
       "331318                None  \n",
       "275338  off-street parking  \n",
       "43086                 None  \n",
       "330686                None  \n",
       "83450      attached garage  \n",
       "324410  off-street parking  \n",
       "80065                 None  \n",
       "149599                None  "
      ]
     },
     "execution_count": 6,
     "metadata": {},
     "output_type": "execute_result"
    }
   ],
   "source": [
    "train.iloc[:,10:17].sample(10)"
   ]
  },
  {
   "cell_type": "code",
   "execution_count": 7,
   "metadata": {},
   "outputs": [
    {
     "data": {
      "text/html": [
       "<div>\n",
       "<style scoped>\n",
       "    .dataframe tbody tr th:only-of-type {\n",
       "        vertical-align: middle;\n",
       "    }\n",
       "\n",
       "    .dataframe tbody tr th {\n",
       "        vertical-align: top;\n",
       "    }\n",
       "\n",
       "    .dataframe thead th {\n",
       "        text-align: right;\n",
       "    }\n",
       "</style>\n",
       "<table border=\"1\" class=\"dataframe\">\n",
       "  <thead>\n",
       "    <tr style=\"text-align: right;\">\n",
       "      <th></th>\n",
       "      <th>image_url</th>\n",
       "      <th>description</th>\n",
       "      <th>lat</th>\n",
       "      <th>long</th>\n",
       "      <th>state</th>\n",
       "    </tr>\n",
       "  </thead>\n",
       "  <tbody>\n",
       "    <tr>\n",
       "      <th>181340</th>\n",
       "      <td>https://images.craigslist.org/00e0e_773z3eTnLu...</td>\n",
       "      <td>Beds: 1 Baths: 1 Floor Plan: The Trexler  Rege...</td>\n",
       "      <td>40.5883</td>\n",
       "      <td>-75.4836</td>\n",
       "      <td>pa</td>\n",
       "    </tr>\n",
       "    <tr>\n",
       "      <th>253711</th>\n",
       "      <td>https://images.craigslist.org/00v0v_jnKyHy0ucy...</td>\n",
       "      <td>Award Winning Community Near the Medical Cente...</td>\n",
       "      <td>29.5216</td>\n",
       "      <td>-98.6051</td>\n",
       "      <td>tx</td>\n",
       "    </tr>\n",
       "    <tr>\n",
       "      <th>222477</th>\n",
       "      <td>https://images.craigslist.org/00808_4IIEINeCll...</td>\n",
       "      <td>Dorado Ranch is a community offering a great r...</td>\n",
       "      <td>31.9076</td>\n",
       "      <td>-102.2830</td>\n",
       "      <td>tx</td>\n",
       "    </tr>\n",
       "    <tr>\n",
       "      <th>94353</th>\n",
       "      <td>https://images.craigslist.org/00H0H_6um4kwfOLq...</td>\n",
       "      <td>Four unit apartment building in the county wit...</td>\n",
       "      <td>36.5484</td>\n",
       "      <td>-82.5618</td>\n",
       "      <td>tn</td>\n",
       "    </tr>\n",
       "    <tr>\n",
       "      <th>8617</th>\n",
       "      <td>https://images.craigslist.org/00Z0Z_lNQlpKQOhV...</td>\n",
       "      <td>GREAT CARMICHAEL, CA HOME! Located near MSJ Ho...</td>\n",
       "      <td>38.6284</td>\n",
       "      <td>-121.3290</td>\n",
       "      <td>ca</td>\n",
       "    </tr>\n",
       "    <tr>\n",
       "      <th>179156</th>\n",
       "      <td>https://images.craigslist.org/01616_2ExUx4MrT6...</td>\n",
       "      <td>The Highlands is a great community convenientl...</td>\n",
       "      <td>43.0444</td>\n",
       "      <td>-87.9498</td>\n",
       "      <td>wi</td>\n",
       "    </tr>\n",
       "    <tr>\n",
       "      <th>185467</th>\n",
       "      <td>https://images.craigslist.org/00R0R_cyWYoF6Dsl...</td>\n",
       "      <td>Haines Acres is the place to be!!! This adorab...</td>\n",
       "      <td>39.9590</td>\n",
       "      <td>-76.6592</td>\n",
       "      <td>pa</td>\n",
       "    </tr>\n",
       "    <tr>\n",
       "      <th>233019</th>\n",
       "      <td>https://images.craigslist.org/00505_gnwEQjDXvH...</td>\n",
       "      <td>Unit Color may vary from picturesWelcome to Pa...</td>\n",
       "      <td>45.4762</td>\n",
       "      <td>-122.7230</td>\n",
       "      <td>or</td>\n",
       "    </tr>\n",
       "    <tr>\n",
       "      <th>74773</th>\n",
       "      <td>https://images.craigslist.org/01111_kTkwwDWaJT...</td>\n",
       "      <td>Specials: Amazing Remodel units, tile backspla...</td>\n",
       "      <td>45.5457</td>\n",
       "      <td>-94.2229</td>\n",
       "      <td>mn</td>\n",
       "    </tr>\n",
       "    <tr>\n",
       "      <th>92738</th>\n",
       "      <td>https://images.craigslist.org/00G0G_cJJyoxFLeb...</td>\n",
       "      <td>Welcome Home to Entrada Del Rio Apartments! Se...</td>\n",
       "      <td>32.2901</td>\n",
       "      <td>-110.9490</td>\n",
       "      <td>az</td>\n",
       "    </tr>\n",
       "  </tbody>\n",
       "</table>\n",
       "</div>"
      ],
      "text/plain": [
       "                                                image_url  \\\n",
       "181340  https://images.craigslist.org/00e0e_773z3eTnLu...   \n",
       "253711  https://images.craigslist.org/00v0v_jnKyHy0ucy...   \n",
       "222477  https://images.craigslist.org/00808_4IIEINeCll...   \n",
       "94353   https://images.craigslist.org/00H0H_6um4kwfOLq...   \n",
       "8617    https://images.craigslist.org/00Z0Z_lNQlpKQOhV...   \n",
       "179156  https://images.craigslist.org/01616_2ExUx4MrT6...   \n",
       "185467  https://images.craigslist.org/00R0R_cyWYoF6Dsl...   \n",
       "233019  https://images.craigslist.org/00505_gnwEQjDXvH...   \n",
       "74773   https://images.craigslist.org/01111_kTkwwDWaJT...   \n",
       "92738   https://images.craigslist.org/00G0G_cJJyoxFLeb...   \n",
       "\n",
       "                                              description      lat      long  \\\n",
       "181340  Beds: 1 Baths: 1 Floor Plan: The Trexler  Rege...  40.5883  -75.4836   \n",
       "253711  Award Winning Community Near the Medical Cente...  29.5216  -98.6051   \n",
       "222477  Dorado Ranch is a community offering a great r...  31.9076 -102.2830   \n",
       "94353   Four unit apartment building in the county wit...  36.5484  -82.5618   \n",
       "8617    GREAT CARMICHAEL, CA HOME! Located near MSJ Ho...  38.6284 -121.3290   \n",
       "179156  The Highlands is a great community convenientl...  43.0444  -87.9498   \n",
       "185467  Haines Acres is the place to be!!! This adorab...  39.9590  -76.6592   \n",
       "233019  Unit Color may vary from picturesWelcome to Pa...  45.4762 -122.7230   \n",
       "74773   Specials: Amazing Remodel units, tile backspla...  45.5457  -94.2229   \n",
       "92738   Welcome Home to Entrada Del Rio Apartments! Se...  32.2901 -110.9490   \n",
       "\n",
       "       state  \n",
       "181340    pa  \n",
       "253711    tx  \n",
       "222477    tx  \n",
       "94353     tn  \n",
       "8617      ca  \n",
       "179156    wi  \n",
       "185467    pa  \n",
       "233019    or  \n",
       "74773     mn  \n",
       "92738     az  "
      ]
     },
     "execution_count": 7,
     "metadata": {},
     "output_type": "execute_result"
    }
   ],
   "source": [
    "train.iloc[:,17:23].sample(10)"
   ]
  },
  {
   "attachments": {},
   "cell_type": "markdown",
   "metadata": {},
   "source": [
    "Observamos el tipo de dato de cada columna"
   ]
  },
  {
   "cell_type": "code",
   "execution_count": 8,
   "metadata": {},
   "outputs": [
    {
     "name": "stdout",
     "output_type": "stream",
     "text": [
      "<class 'pandas.core.frame.DataFrame'>\n",
      "RangeIndex: 346479 entries, 0 to 346478\n",
      "Data columns (total 12 columns):\n",
      " #   Column           Non-Null Count   Dtype  \n",
      "---  ------           --------------   -----  \n",
      " 0   id               346479 non-null  int64  \n",
      " 1   url              346479 non-null  object \n",
      " 2   region           346479 non-null  object \n",
      " 3   region_url       346479 non-null  object \n",
      " 4   price            346479 non-null  int64  \n",
      " 5   type             346479 non-null  object \n",
      " 6   sqfeet           346479 non-null  int64  \n",
      " 7   beds             346479 non-null  int64  \n",
      " 8   baths            346479 non-null  float64\n",
      " 9   cats_allowed     346479 non-null  int64  \n",
      " 10  dogs_allowed     346479 non-null  int64  \n",
      " 11  smoking_allowed  346479 non-null  int64  \n",
      "dtypes: float64(1), int64(7), object(4)\n",
      "memory usage: 31.7+ MB\n"
     ]
    }
   ],
   "source": [
    "train.iloc[:,0:12].info()"
   ]
  },
  {
   "cell_type": "code",
   "execution_count": 9,
   "metadata": {},
   "outputs": [
    {
     "name": "stdout",
     "output_type": "stream",
     "text": [
      "<class 'pandas.core.frame.DataFrame'>\n",
      "RangeIndex: 346479 entries, 0 to 346478\n",
      "Data columns (total 10 columns):\n",
      " #   Column                   Non-Null Count   Dtype  \n",
      "---  ------                   --------------   -----  \n",
      " 0   wheelchair_access        346479 non-null  int64  \n",
      " 1   electric_vehicle_charge  346479 non-null  int64  \n",
      " 2   comes_furnished          346479 non-null  int64  \n",
      " 3   laundry_options          275308 non-null  object \n",
      " 4   parking_options          219797 non-null  object \n",
      " 5   image_url                346479 non-null  object \n",
      " 6   description              346477 non-null  object \n",
      " 7   lat                      344757 non-null  float64\n",
      " 8   long                     344757 non-null  float64\n",
      " 9   state                    346479 non-null  object \n",
      "dtypes: float64(2), int64(3), object(5)\n",
      "memory usage: 26.4+ MB\n"
     ]
    }
   ],
   "source": [
    "train.iloc[:,12:23].info()"
   ]
  },
  {
   "cell_type": "code",
   "execution_count": 10,
   "metadata": {},
   "outputs": [],
   "source": [
    "# Discretizacion/binning de la columma \"price\" con dos rangos indicados (Rango 1: low: <=999 / Rango 2: > 1000)\n",
    "\n",
    "#definimos los \"bins\" para separar\n",
    "max_price = max(train[\"price\"])\n",
    "bins = [-1, 999,max_price]\n",
    "group_names = [\"1\", \"0\"]\n",
    "\n",
    "#Creacion de la columna \"category_price\" con la categoria correspondiente\n",
    "train['category_price'] = pd.cut(train['price'], bins = bins, labels=group_names)"
   ]
  },
  {
   "cell_type": "code",
   "execution_count": 12,
   "metadata": {},
   "outputs": [
    {
     "data": {
      "text/plain": [
       "['0', '1']\n",
       "Categories (2, object): ['1' < '0']"
      ]
     },
     "execution_count": 12,
     "metadata": {},
     "output_type": "execute_result"
    }
   ],
   "source": [
    "train[\"category_price\"].unique()"
   ]
  },
  {
   "cell_type": "code",
   "execution_count": 13,
   "metadata": {},
   "outputs": [],
   "source": [
    "#Por ultimo dropeamos la columna \"price\" ya que no era utilizada posteriormente:\n",
    "train.drop(columns=[\"price\"], inplace=True)"
   ]
  },
  {
   "attachments": {},
   "cell_type": "markdown",
   "metadata": {},
   "source": [
    "------------------------------------------"
   ]
  },
  {
   "attachments": {},
   "cell_type": "markdown",
   "metadata": {},
   "source": [
    "### Duplicados:"
   ]
  },
  {
   "cell_type": "code",
   "execution_count": 14,
   "metadata": {},
   "outputs": [
    {
     "data": {
      "text/plain": [
       "0"
      ]
     },
     "execution_count": 14,
     "metadata": {},
     "output_type": "execute_result"
    }
   ],
   "source": [
    "#Filas duplicadas:\n",
    "train.duplicated().sum()"
   ]
  },
  {
   "attachments": {},
   "cell_type": "markdown",
   "metadata": {},
   "source": [
    "No existen filas enteras duplicadas"
   ]
  },
  {
   "cell_type": "code",
   "execution_count": 15,
   "metadata": {},
   "outputs": [
    {
     "data": {
      "text/plain": [
       "91488"
      ]
     },
     "execution_count": 15,
     "metadata": {},
     "output_type": "execute_result"
    }
   ],
   "source": [
    "#Buscamos anuncion que se repitan a traves de su descripción ya que el resto de las columnas no nos permiten hacer esta distinción: \n",
    "train.duplicated(\"description\").sum()"
   ]
  },
  {
   "attachments": {},
   "cell_type": "markdown",
   "metadata": {},
   "source": [
    "Pareciera haber 91488 filas donde la descripcion del anuncio se repiten, probablemente en relacion a un mismo inmueble.\n",
    "\n",
    "Confirmamos si los mismos son efectivamente duplicados:"
   ]
  },
  {
   "cell_type": "code",
   "execution_count": 16,
   "metadata": {},
   "outputs": [
    {
     "data": {
      "text/plain": [
       "(85688, 136676, 138914, 174442, 278237)"
      ]
     },
     "execution_count": 16,
     "metadata": {},
     "output_type": "execute_result"
    }
   ],
   "source": [
    "df = train.loc[train['description'].duplicated(keep=False),'description']\n",
    "df\n",
    "df = df.groupby(df).apply(lambda x: tuple(x.index)).tolist()\n",
    "df[0]"
   ]
  },
  {
   "cell_type": "code",
   "execution_count": 19,
   "metadata": {},
   "outputs": [
    {
     "data": {
      "text/html": [
       "<div>\n",
       "<style scoped>\n",
       "    .dataframe tbody tr th:only-of-type {\n",
       "        vertical-align: middle;\n",
       "    }\n",
       "\n",
       "    .dataframe tbody tr th {\n",
       "        vertical-align: top;\n",
       "    }\n",
       "\n",
       "    .dataframe thead th {\n",
       "        text-align: right;\n",
       "    }\n",
       "</style>\n",
       "<table border=\"1\" class=\"dataframe\">\n",
       "  <thead>\n",
       "    <tr style=\"text-align: right;\">\n",
       "      <th></th>\n",
       "      <th>lat</th>\n",
       "      <th>description</th>\n",
       "    </tr>\n",
       "  </thead>\n",
       "  <tbody>\n",
       "    <tr>\n",
       "      <th>278237</th>\n",
       "      <td>35.7667</td>\n",
       "      <td>!! LÃ¢rge 3 bedroom Home ~ WASHER/DRYER, STEEL...</td>\n",
       "    </tr>\n",
       "    <tr>\n",
       "      <th>174442</th>\n",
       "      <td>35.8673</td>\n",
       "      <td>!! LÃ¢rge 3 bedroom Home ~ WASHER/DRYER, STEEL...</td>\n",
       "    </tr>\n",
       "  </tbody>\n",
       "</table>\n",
       "</div>"
      ],
      "text/plain": [
       "            lat                                        description\n",
       "278237  35.7667  !! LÃ¢rge 3 bedroom Home ~ WASHER/DRYER, STEEL...\n",
       "174442  35.8673  !! LÃ¢rge 3 bedroom Home ~ WASHER/DRYER, STEEL..."
      ]
     },
     "execution_count": 19,
     "metadata": {},
     "output_type": "execute_result"
    }
   ],
   "source": [
    "train.loc[[278237,174442],['lat','description']]"
   ]
  },
  {
   "attachments": {},
   "cell_type": "markdown",
   "metadata": {},
   "source": [
    "Efectivamente, son duplicados. Procedemos a eliminar los mismos: "
   ]
  },
  {
   "cell_type": "code",
   "execution_count": 20,
   "metadata": {},
   "outputs": [
    {
     "data": {
      "text/plain": [
       "(346479, 22)"
      ]
     },
     "execution_count": 20,
     "metadata": {},
     "output_type": "execute_result"
    }
   ],
   "source": [
    "train.shape"
   ]
  },
  {
   "cell_type": "code",
   "execution_count": 21,
   "metadata": {},
   "outputs": [],
   "source": [
    "train.drop_duplicates(subset='description', inplace=True)"
   ]
  },
  {
   "cell_type": "code",
   "execution_count": 22,
   "metadata": {},
   "outputs": [
    {
     "data": {
      "text/plain": [
       "(254991, 22)"
      ]
     },
     "execution_count": 22,
     "metadata": {},
     "output_type": "execute_result"
    }
   ],
   "source": [
    "train.shape"
   ]
  },
  {
   "attachments": {},
   "cell_type": "markdown",
   "metadata": {},
   "source": [
    "------"
   ]
  },
  {
   "attachments": {},
   "cell_type": "markdown",
   "metadata": {},
   "source": [
    "Ahora conocemos en porfunidad las columnas con el metodo *describe()*"
   ]
  },
  {
   "cell_type": "code",
   "execution_count": 23,
   "metadata": {},
   "outputs": [
    {
     "data": {
      "text/html": [
       "<div>\n",
       "<style scoped>\n",
       "    .dataframe tbody tr th:only-of-type {\n",
       "        vertical-align: middle;\n",
       "    }\n",
       "\n",
       "    .dataframe tbody tr th {\n",
       "        vertical-align: top;\n",
       "    }\n",
       "\n",
       "    .dataframe thead th {\n",
       "        text-align: right;\n",
       "    }\n",
       "</style>\n",
       "<table border=\"1\" class=\"dataframe\">\n",
       "  <thead>\n",
       "    <tr style=\"text-align: right;\">\n",
       "      <th></th>\n",
       "      <th>id</th>\n",
       "      <th>sqfeet</th>\n",
       "      <th>beds</th>\n",
       "      <th>baths</th>\n",
       "      <th>cats_allowed</th>\n",
       "      <th>dogs_allowed</th>\n",
       "      <th>smoking_allowed</th>\n",
       "      <th>wheelchair_access</th>\n",
       "      <th>electric_vehicle_charge</th>\n",
       "      <th>comes_furnished</th>\n",
       "      <th>lat</th>\n",
       "      <th>long</th>\n",
       "      <th>category_price</th>\n",
       "    </tr>\n",
       "  </thead>\n",
       "  <tbody>\n",
       "    <tr>\n",
       "      <th>count</th>\n",
       "      <td>2.549910e+05</td>\n",
       "      <td>2.549910e+05</td>\n",
       "      <td>254991.000000</td>\n",
       "      <td>254991.000000</td>\n",
       "      <td>254991.000000</td>\n",
       "      <td>254991.000000</td>\n",
       "      <td>254991.000000</td>\n",
       "      <td>254991.000000</td>\n",
       "      <td>254991.000000</td>\n",
       "      <td>254991.000000</td>\n",
       "      <td>253704.000000</td>\n",
       "      <td>253704.000000</td>\n",
       "      <td>254991</td>\n",
       "    </tr>\n",
       "    <tr>\n",
       "      <th>unique</th>\n",
       "      <td>NaN</td>\n",
       "      <td>NaN</td>\n",
       "      <td>NaN</td>\n",
       "      <td>NaN</td>\n",
       "      <td>NaN</td>\n",
       "      <td>NaN</td>\n",
       "      <td>NaN</td>\n",
       "      <td>NaN</td>\n",
       "      <td>NaN</td>\n",
       "      <td>NaN</td>\n",
       "      <td>NaN</td>\n",
       "      <td>NaN</td>\n",
       "      <td>2</td>\n",
       "    </tr>\n",
       "    <tr>\n",
       "      <th>top</th>\n",
       "      <td>NaN</td>\n",
       "      <td>NaN</td>\n",
       "      <td>NaN</td>\n",
       "      <td>NaN</td>\n",
       "      <td>NaN</td>\n",
       "      <td>NaN</td>\n",
       "      <td>NaN</td>\n",
       "      <td>NaN</td>\n",
       "      <td>NaN</td>\n",
       "      <td>NaN</td>\n",
       "      <td>NaN</td>\n",
       "      <td>NaN</td>\n",
       "      <td>0</td>\n",
       "    </tr>\n",
       "    <tr>\n",
       "      <th>freq</th>\n",
       "      <td>NaN</td>\n",
       "      <td>NaN</td>\n",
       "      <td>NaN</td>\n",
       "      <td>NaN</td>\n",
       "      <td>NaN</td>\n",
       "      <td>NaN</td>\n",
       "      <td>NaN</td>\n",
       "      <td>NaN</td>\n",
       "      <td>NaN</td>\n",
       "      <td>NaN</td>\n",
       "      <td>NaN</td>\n",
       "      <td>NaN</td>\n",
       "      <td>149456</td>\n",
       "    </tr>\n",
       "    <tr>\n",
       "      <th>mean</th>\n",
       "      <td>7.041000e+09</td>\n",
       "      <td>1.108429e+03</td>\n",
       "      <td>1.932758</td>\n",
       "      <td>1.500467</td>\n",
       "      <td>0.688381</td>\n",
       "      <td>0.669733</td>\n",
       "      <td>0.724994</td>\n",
       "      <td>0.077191</td>\n",
       "      <td>0.013459</td>\n",
       "      <td>0.046041</td>\n",
       "      <td>37.402306</td>\n",
       "      <td>-92.804566</td>\n",
       "      <td>NaN</td>\n",
       "    </tr>\n",
       "    <tr>\n",
       "      <th>std</th>\n",
       "      <td>8.983170e+06</td>\n",
       "      <td>2.352589e+04</td>\n",
       "      <td>3.653762</td>\n",
       "      <td>0.627858</td>\n",
       "      <td>0.463156</td>\n",
       "      <td>0.470310</td>\n",
       "      <td>0.446518</td>\n",
       "      <td>0.266895</td>\n",
       "      <td>0.115231</td>\n",
       "      <td>0.209574</td>\n",
       "      <td>5.724401</td>\n",
       "      <td>17.273246</td>\n",
       "      <td>NaN</td>\n",
       "    </tr>\n",
       "    <tr>\n",
       "      <th>min</th>\n",
       "      <td>7.003808e+09</td>\n",
       "      <td>0.000000e+00</td>\n",
       "      <td>0.000000</td>\n",
       "      <td>0.000000</td>\n",
       "      <td>0.000000</td>\n",
       "      <td>0.000000</td>\n",
       "      <td>0.000000</td>\n",
       "      <td>0.000000</td>\n",
       "      <td>0.000000</td>\n",
       "      <td>0.000000</td>\n",
       "      <td>-43.533300</td>\n",
       "      <td>-163.894000</td>\n",
       "      <td>NaN</td>\n",
       "    </tr>\n",
       "    <tr>\n",
       "      <th>25%</th>\n",
       "      <td>7.035951e+09</td>\n",
       "      <td>7.550000e+02</td>\n",
       "      <td>1.000000</td>\n",
       "      <td>1.000000</td>\n",
       "      <td>0.000000</td>\n",
       "      <td>0.000000</td>\n",
       "      <td>0.000000</td>\n",
       "      <td>0.000000</td>\n",
       "      <td>0.000000</td>\n",
       "      <td>0.000000</td>\n",
       "      <td>33.480500</td>\n",
       "      <td>-102.124000</td>\n",
       "      <td>NaN</td>\n",
       "    </tr>\n",
       "    <tr>\n",
       "      <th>50%</th>\n",
       "      <td>7.043421e+09</td>\n",
       "      <td>9.520000e+02</td>\n",
       "      <td>2.000000</td>\n",
       "      <td>1.000000</td>\n",
       "      <td>1.000000</td>\n",
       "      <td>1.000000</td>\n",
       "      <td>1.000000</td>\n",
       "      <td>0.000000</td>\n",
       "      <td>0.000000</td>\n",
       "      <td>0.000000</td>\n",
       "      <td>38.037100</td>\n",
       "      <td>-87.836100</td>\n",
       "      <td>NaN</td>\n",
       "    </tr>\n",
       "    <tr>\n",
       "      <th>75%</th>\n",
       "      <td>7.048540e+09</td>\n",
       "      <td>1.167000e+03</td>\n",
       "      <td>2.000000</td>\n",
       "      <td>2.000000</td>\n",
       "      <td>1.000000</td>\n",
       "      <td>1.000000</td>\n",
       "      <td>1.000000</td>\n",
       "      <td>0.000000</td>\n",
       "      <td>0.000000</td>\n",
       "      <td>0.000000</td>\n",
       "      <td>41.396050</td>\n",
       "      <td>-80.889200</td>\n",
       "      <td>NaN</td>\n",
       "    </tr>\n",
       "    <tr>\n",
       "      <th>max</th>\n",
       "      <td>7.051292e+09</td>\n",
       "      <td>8.388607e+06</td>\n",
       "      <td>1100.000000</td>\n",
       "      <td>75.000000</td>\n",
       "      <td>1.000000</td>\n",
       "      <td>1.000000</td>\n",
       "      <td>1.000000</td>\n",
       "      <td>1.000000</td>\n",
       "      <td>1.000000</td>\n",
       "      <td>1.000000</td>\n",
       "      <td>102.036000</td>\n",
       "      <td>172.633000</td>\n",
       "      <td>NaN</td>\n",
       "    </tr>\n",
       "  </tbody>\n",
       "</table>\n",
       "</div>"
      ],
      "text/plain": [
       "                  id        sqfeet           beds          baths  \\\n",
       "count   2.549910e+05  2.549910e+05  254991.000000  254991.000000   \n",
       "unique           NaN           NaN            NaN            NaN   \n",
       "top              NaN           NaN            NaN            NaN   \n",
       "freq             NaN           NaN            NaN            NaN   \n",
       "mean    7.041000e+09  1.108429e+03       1.932758       1.500467   \n",
       "std     8.983170e+06  2.352589e+04       3.653762       0.627858   \n",
       "min     7.003808e+09  0.000000e+00       0.000000       0.000000   \n",
       "25%     7.035951e+09  7.550000e+02       1.000000       1.000000   \n",
       "50%     7.043421e+09  9.520000e+02       2.000000       1.000000   \n",
       "75%     7.048540e+09  1.167000e+03       2.000000       2.000000   \n",
       "max     7.051292e+09  8.388607e+06    1100.000000      75.000000   \n",
       "\n",
       "         cats_allowed   dogs_allowed  smoking_allowed  wheelchair_access  \\\n",
       "count   254991.000000  254991.000000    254991.000000      254991.000000   \n",
       "unique            NaN            NaN              NaN                NaN   \n",
       "top               NaN            NaN              NaN                NaN   \n",
       "freq              NaN            NaN              NaN                NaN   \n",
       "mean         0.688381       0.669733         0.724994           0.077191   \n",
       "std          0.463156       0.470310         0.446518           0.266895   \n",
       "min          0.000000       0.000000         0.000000           0.000000   \n",
       "25%          0.000000       0.000000         0.000000           0.000000   \n",
       "50%          1.000000       1.000000         1.000000           0.000000   \n",
       "75%          1.000000       1.000000         1.000000           0.000000   \n",
       "max          1.000000       1.000000         1.000000           1.000000   \n",
       "\n",
       "        electric_vehicle_charge  comes_furnished            lat  \\\n",
       "count             254991.000000    254991.000000  253704.000000   \n",
       "unique                      NaN              NaN            NaN   \n",
       "top                         NaN              NaN            NaN   \n",
       "freq                        NaN              NaN            NaN   \n",
       "mean                   0.013459         0.046041      37.402306   \n",
       "std                    0.115231         0.209574       5.724401   \n",
       "min                    0.000000         0.000000     -43.533300   \n",
       "25%                    0.000000         0.000000      33.480500   \n",
       "50%                    0.000000         0.000000      38.037100   \n",
       "75%                    0.000000         0.000000      41.396050   \n",
       "max                    1.000000         1.000000     102.036000   \n",
       "\n",
       "                 long category_price  \n",
       "count   253704.000000         254991  \n",
       "unique            NaN              2  \n",
       "top               NaN              0  \n",
       "freq              NaN         149456  \n",
       "mean       -92.804566            NaN  \n",
       "std         17.273246            NaN  \n",
       "min       -163.894000            NaN  \n",
       "25%       -102.124000            NaN  \n",
       "50%        -87.836100            NaN  \n",
       "75%        -80.889200            NaN  \n",
       "max        172.633000            NaN  "
      ]
     },
     "execution_count": 23,
     "metadata": {},
     "output_type": "execute_result"
    }
   ],
   "source": [
    "train.describe(exclude=[object])"
   ]
  },
  {
   "cell_type": "code",
   "execution_count": 24,
   "metadata": {},
   "outputs": [
    {
     "data": {
      "text/html": [
       "<div>\n",
       "<style scoped>\n",
       "    .dataframe tbody tr th:only-of-type {\n",
       "        vertical-align: middle;\n",
       "    }\n",
       "\n",
       "    .dataframe tbody tr th {\n",
       "        vertical-align: top;\n",
       "    }\n",
       "\n",
       "    .dataframe thead th {\n",
       "        text-align: right;\n",
       "    }\n",
       "</style>\n",
       "<table border=\"1\" class=\"dataframe\">\n",
       "  <thead>\n",
       "    <tr style=\"text-align: right;\">\n",
       "      <th></th>\n",
       "      <th>url</th>\n",
       "      <th>region</th>\n",
       "      <th>region_url</th>\n",
       "      <th>type</th>\n",
       "      <th>laundry_options</th>\n",
       "      <th>parking_options</th>\n",
       "      <th>image_url</th>\n",
       "      <th>description</th>\n",
       "      <th>state</th>\n",
       "      <th>category_price</th>\n",
       "    </tr>\n",
       "  </thead>\n",
       "  <tbody>\n",
       "    <tr>\n",
       "      <th>count</th>\n",
       "      <td>254991</td>\n",
       "      <td>254991</td>\n",
       "      <td>254991</td>\n",
       "      <td>254991</td>\n",
       "      <td>193791</td>\n",
       "      <td>153125</td>\n",
       "      <td>254991</td>\n",
       "      <td>254990</td>\n",
       "      <td>254991</td>\n",
       "      <td>254991</td>\n",
       "    </tr>\n",
       "    <tr>\n",
       "      <th>unique</th>\n",
       "      <td>254991</td>\n",
       "      <td>404</td>\n",
       "      <td>413</td>\n",
       "      <td>12</td>\n",
       "      <td>5</td>\n",
       "      <td>7</td>\n",
       "      <td>149363</td>\n",
       "      <td>254990</td>\n",
       "      <td>51</td>\n",
       "      <td>2</td>\n",
       "    </tr>\n",
       "    <tr>\n",
       "      <th>top</th>\n",
       "      <td>https://boise.craigslist.org/apa/d/very-nice-b...</td>\n",
       "      <td>rochester</td>\n",
       "      <td>https://saltlakecity.craigslist.org</td>\n",
       "      <td>apartment</td>\n",
       "      <td>w/d in unit</td>\n",
       "      <td>off-street parking</td>\n",
       "      <td>https://images.craigslist.org/00o0o_g5ogc305Nw...</td>\n",
       "      <td>Super cute row house in the Boise bench area. ...</td>\n",
       "      <td>ca</td>\n",
       "      <td>0</td>\n",
       "    </tr>\n",
       "    <tr>\n",
       "      <th>freq</th>\n",
       "      <td>1</td>\n",
       "      <td>2732</td>\n",
       "      <td>2345</td>\n",
       "      <td>206490</td>\n",
       "      <td>89679</td>\n",
       "      <td>76855</td>\n",
       "      <td>155</td>\n",
       "      <td>1</td>\n",
       "      <td>23257</td>\n",
       "      <td>149456</td>\n",
       "    </tr>\n",
       "  </tbody>\n",
       "</table>\n",
       "</div>"
      ],
      "text/plain": [
       "                                                      url     region  \\\n",
       "count                                              254991     254991   \n",
       "unique                                             254991        404   \n",
       "top     https://boise.craigslist.org/apa/d/very-nice-b...  rochester   \n",
       "freq                                                    1       2732   \n",
       "\n",
       "                                 region_url       type laundry_options  \\\n",
       "count                                254991     254991          193791   \n",
       "unique                                  413         12               5   \n",
       "top     https://saltlakecity.craigslist.org  apartment     w/d in unit   \n",
       "freq                                   2345     206490           89679   \n",
       "\n",
       "           parking_options                                          image_url  \\\n",
       "count               153125                                             254991   \n",
       "unique                   7                                             149363   \n",
       "top     off-street parking  https://images.craigslist.org/00o0o_g5ogc305Nw...   \n",
       "freq                 76855                                                155   \n",
       "\n",
       "                                              description   state  \\\n",
       "count                                              254990  254991   \n",
       "unique                                             254990      51   \n",
       "top     Super cute row house in the Boise bench area. ...      ca   \n",
       "freq                                                    1   23257   \n",
       "\n",
       "       category_price  \n",
       "count          254991  \n",
       "unique              2  \n",
       "top                 0  \n",
       "freq           149456  "
      ]
     },
     "execution_count": 24,
     "metadata": {},
     "output_type": "execute_result"
    }
   ],
   "source": [
    "train.describe(exclude=[np.number])"
   ]
  },
  {
   "attachments": {},
   "cell_type": "markdown",
   "metadata": {},
   "source": [
    "price y category_price no entran en juego ya que son el objetivo\n",
    "\n",
    "- Columnas tipo 1 (apriori no deberian tener impacto en el precio del inmueble): id, url, region_url, image_url\n",
    "- Columnas tipo 2 (pueden tenre un impacto +/- segun el punto de vista): cats_allowed, dos_allowed, wheelchair_access, electric_vehicle_charge\n",
    "- Columnas tipo 3 (creeriamos tiene alto impacto en el precio): sqfeet, beds, baths, comes_furnished, lat, long, region, type, laundry_options, parking_options, description, state\n",
    "\n",
    "Dentro de esto separamos las variables:\n",
    "- Categoricas: url\tregion\tregion_url\ttype\tlaundry_options\tparking_options\timage_url\tdescription\tstate\tcategory_price\n",
    "- Numericas: id\tprice\tsqfeet\tbeds\tbaths\tcats_allowed\tdogs_allowed\tsmoking_allowed\twheelchair_access\telectric_vehicle_charge\tcomes_furnished\tlat\tlong\t"
   ]
  },
  {
   "cell_type": "code",
   "execution_count": 25,
   "metadata": {},
   "outputs": [],
   "source": [
    "#por no encontrarse en relacion con el precio final, decidimos dehacernos de las columnas tipo 1:\n",
    "#train.drop(columns=[\"id\", \"url\", \"region_url\", \"image_url\"], inplace = True)"
   ]
  },
  {
   "attachments": {},
   "cell_type": "markdown",
   "metadata": {},
   "source": [
    "-------------"
   ]
  },
  {
   "attachments": {},
   "cell_type": "markdown",
   "metadata": {},
   "source": [
    "### VALORES FALTANTES"
   ]
  },
  {
   "cell_type": "code",
   "execution_count": 26,
   "metadata": {},
   "outputs": [],
   "source": [
    "import missingno as msno"
   ]
  },
  {
   "cell_type": "code",
   "execution_count": 27,
   "metadata": {},
   "outputs": [
    {
     "data": {
      "image/png": "[encoded data removed]",
      "text/plain": [
       "<Figure size 2500x1000 with 3 Axes>"
      ]
     },
     "metadata": {},
     "output_type": "display_data"
    }
   ],
   "source": [
    "#Analizamos graficamente los datos faltantes:\n",
    "msno.bar(train)\n",
    "plt.show()"
   ]
  },
  {
   "cell_type": "code",
   "execution_count": 28,
   "metadata": {},
   "outputs": [
    {
     "data": {
      "text/plain": [
       "id                              0\n",
       "image_url                       0\n",
       "comes_furnished                 0\n",
       "electric_vehicle_charge         0\n",
       "wheelchair_access               0\n",
       "state                           0\n",
       "dogs_allowed                    0\n",
       "cats_allowed                    0\n",
       "smoking_allowed                 0\n",
       "beds                            0\n",
       "sqfeet                          0\n",
       "type                            0\n",
       "region_url                      0\n",
       "region                          0\n",
       "url                             0\n",
       "baths                           0\n",
       "category_price                  0\n",
       "description                     1\n",
       "lat                          1287\n",
       "long                         1287\n",
       "laundry_options             61200\n",
       "parking_options            101866\n",
       "dtype: int64"
      ]
     },
     "execution_count": 28,
     "metadata": {},
     "output_type": "execute_result"
    }
   ],
   "source": [
    "#Cantidad de datos faltantes segun cada variable\n",
    "train.isna().sum().sort_values()"
   ]
  },
  {
   "attachments": {},
   "cell_type": "markdown",
   "metadata": {},
   "source": [
    "Las columnas que cuentan con valores faltantes son \"laundry_option\"\"parking_option\", \"lat\", \"long y \"description\""
   ]
  },
  {
   "attachments": {},
   "cell_type": "markdown",
   "metadata": {},
   "source": [
    "COLUMNA LAUNDRY_OPTIONS"
   ]
  },
  {
   "cell_type": "code",
   "execution_count": 29,
   "metadata": {},
   "outputs": [
    {
     "data": {
      "text/plain": [
       "24.00084708872078"
      ]
     },
     "execution_count": 29,
     "metadata": {},
     "output_type": "execute_result"
    }
   ],
   "source": [
    "#Porcentaje de valores faltantes de la variable laundry:\n",
    "(train.laundry_options.isnull().sum()/len(train))*100\n"
   ]
  },
  {
   "attachments": {},
   "cell_type": "markdown",
   "metadata": {},
   "source": [
    "24% es considerable, por lo tanto analizamos la posibilidad de trabajar con las categorias dentro de laundry_options"
   ]
  },
  {
   "cell_type": "code",
   "execution_count": 30,
   "metadata": {},
   "outputs": [
    {
     "data": {
      "text/plain": [
       "w/d in unit           89679\n",
       "w/d hookups           46447\n",
       "laundry on site       32607\n",
       "laundry in bldg       22405\n",
       "no laundry on site     2653\n",
       "Name: laundry_options, dtype: int64"
      ]
     },
     "execution_count": 30,
     "metadata": {},
     "output_type": "execute_result"
    }
   ],
   "source": [
    "#Valores que toma la variable:\n",
    "train.laundry_options.value_counts()"
   ]
  },
  {
   "attachments": {},
   "cell_type": "markdown",
   "metadata": {},
   "source": [
    "Considerando que casi el 50% de los datos indican \"w/d in unit\" (lavasecaplatos dentro de la unidad) decidimos arbitrariamente separar la columna laundry_options en 3.\n",
    "- Aquellos con w/d in unit valdran 1\n",
    "- Aquellos que tengan la posibilidad de conexion (w/d hookups), pero no el dispositivo lavasecaplatos valdra 2\n",
    "- El resto valdra 3 (aprovechamos y llenamos los nulos con valor = 3)"
   ]
  },
  {
   "cell_type": "code",
   "execution_count": 31,
   "metadata": {},
   "outputs": [],
   "source": [
    "train.replace({'laundry_options' : { 'w/d in unit' : 1, 'w/d hookups' : 2,  \"no laundry on site\" : 3 , \"laundry on site\" : 3, \"laundry in bldg\" : 3 }}, inplace=True)\n",
    "train[\"laundry_options\"].fillna(3, inplace = True)"
   ]
  },
  {
   "cell_type": "code",
   "execution_count": 32,
   "metadata": {},
   "outputs": [
    {
     "data": {
      "text/plain": [
       "3.0    118865\n",
       "1.0     89679\n",
       "2.0     46447\n",
       "Name: laundry_options, dtype: int64"
      ]
     },
     "execution_count": 32,
     "metadata": {},
     "output_type": "execute_result"
    }
   ],
   "source": [
    "train.laundry_options.value_counts()"
   ]
  },
  {
   "attachments": {},
   "cell_type": "markdown",
   "metadata": {},
   "source": [
    "COLUMNA PARKING_OPTIONS"
   ]
  },
  {
   "cell_type": "code",
   "execution_count": 33,
   "metadata": {},
   "outputs": [
    {
     "data": {
      "text/plain": [
       "39.948860940190045"
      ]
     },
     "execution_count": 33,
     "metadata": {},
     "output_type": "execute_result"
    }
   ],
   "source": [
    "#Porcentaje de valores faltantes de la variable parking:\n",
    "((train.parking_options.isnull().sum()/len(train))*100)\n"
   ]
  },
  {
   "attachments": {},
   "cell_type": "markdown",
   "metadata": {},
   "source": [
    "40% es considerable, por lo tanto analizamos la posibilidad de trabajar con las categorias dentro"
   ]
  },
  {
   "cell_type": "code",
   "execution_count": 34,
   "metadata": {},
   "outputs": [
    {
     "data": {
      "text/plain": [
       "off-street parking    76855\n",
       "attached garage       28497\n",
       "carport               23153\n",
       "detached garage       12567\n",
       "street parking        10800\n",
       "no parking             1118\n",
       "valet parking           135\n",
       "Name: parking_options, dtype: int64"
      ]
     },
     "execution_count": 34,
     "metadata": {},
     "output_type": "execute_result"
    }
   ],
   "source": [
    "#Valores que toma la variable:\n",
    "train.parking_options.value_counts()"
   ]
  },
  {
   "attachments": {},
   "cell_type": "markdown",
   "metadata": {},
   "source": [
    "La presencia de un garage propio (\"attached garage\", \"carport\", \"detached garage\", \"valet parking\") suele ser un determinante a la hora de habalr de inmuebles. Se decide dividir la columna \"parking_options\" en 3 posibilidades:\n",
    "- 1: cuenta con garage propio (\"attached garage\", \"carport\", \"detached garage\", \"valet parking\")\n",
    "- 2: garage comunitario (\"off-street parking\")\n",
    "- 3: sin garage (\"street parking\", \"no parking\") \n",
    "  \n",
    "- El resto de los valores nulos seran categorizados como  3 ya que ante la no indicacion de la presencia de garage, se presupone la posibilidad de estacionar en la calle (\"street parking\")"
   ]
  },
  {
   "cell_type": "code",
   "execution_count": 35,
   "metadata": {},
   "outputs": [],
   "source": [
    "train.replace({'parking_options' : { \"attached garage\" : 1, \"carport\" : 1, \"detached garage\" : 1, \"valet parking\" : 1}}, inplace=True)\n",
    "train.replace({'parking_options' : { \"off-street parking\" : 2}}, inplace=True)\n",
    "train.replace({'parking_options' : { \"street parking\" : 3, \"no parking\" : 3}}, inplace=True)\n",
    "train[\"parking_options\"].fillna(3, inplace = True)"
   ]
  },
  {
   "attachments": {},
   "cell_type": "markdown",
   "metadata": {},
   "source": [
    "COLUMNA \"DESCRIPTION\""
   ]
  },
  {
   "attachments": {},
   "cell_type": "markdown",
   "metadata": {},
   "source": [
    "Cuenta con un solo registro faltante. Dado la corta experiencia en ingenieria de datos y ML, se decide no utilizar esta columna. Se procede a eliminar la misma"
   ]
  },
  {
   "cell_type": "code",
   "execution_count": 36,
   "metadata": {},
   "outputs": [],
   "source": [
    "train.drop(columns=[\"description\"], inplace = True)"
   ]
  },
  {
   "attachments": {},
   "cell_type": "markdown",
   "metadata": {},
   "source": [
    "COLUMNA \"LAT\" Y \"LONG\""
   ]
  },
  {
   "attachments": {},
   "cell_type": "markdown",
   "metadata": {},
   "source": [
    "En relacion a las columnas de geolocalizacion, se decide por comodidad de trabajo conservar unicamente la columna \"state\". Decidimos (conociendo la perdida de informacion que esto implica, pero a fines de desarrollar un primer modelo) eliminar las columnas: "
   ]
  },
  {
   "attachments": {},
   "cell_type": "markdown",
   "metadata": {},
   "source": [
    "\"lat\", \"long\", \"id\", \"url\", \"region\", \"region_url\", \"image_url\""
   ]
  },
  {
   "cell_type": "code",
   "execution_count": 37,
   "metadata": {},
   "outputs": [],
   "source": [
    "train.drop(columns=[\"lat\", \"long\", \"id\", \"url\", \"region\", \"region_url\", \"image_url\"], inplace=True)"
   ]
  },
  {
   "cell_type": "code",
   "execution_count": 38,
   "metadata": {},
   "outputs": [
    {
     "data": {
      "text/html": [
       "<div>\n",
       "<style scoped>\n",
       "    .dataframe tbody tr th:only-of-type {\n",
       "        vertical-align: middle;\n",
       "    }\n",
       "\n",
       "    .dataframe tbody tr th {\n",
       "        vertical-align: top;\n",
       "    }\n",
       "\n",
       "    .dataframe thead th {\n",
       "        text-align: right;\n",
       "    }\n",
       "</style>\n",
       "<table border=\"1\" class=\"dataframe\">\n",
       "  <thead>\n",
       "    <tr style=\"text-align: right;\">\n",
       "      <th></th>\n",
       "      <th>type</th>\n",
       "      <th>sqfeet</th>\n",
       "      <th>beds</th>\n",
       "      <th>baths</th>\n",
       "      <th>cats_allowed</th>\n",
       "      <th>dogs_allowed</th>\n",
       "      <th>smoking_allowed</th>\n",
       "      <th>wheelchair_access</th>\n",
       "      <th>electric_vehicle_charge</th>\n",
       "      <th>comes_furnished</th>\n",
       "      <th>laundry_options</th>\n",
       "      <th>parking_options</th>\n",
       "      <th>state</th>\n",
       "      <th>category_price</th>\n",
       "    </tr>\n",
       "  </thead>\n",
       "  <tbody>\n",
       "    <tr>\n",
       "      <th>0</th>\n",
       "      <td>house</td>\n",
       "      <td>1200</td>\n",
       "      <td>2</td>\n",
       "      <td>2.0</td>\n",
       "      <td>1</td>\n",
       "      <td>1</td>\n",
       "      <td>1</td>\n",
       "      <td>0</td>\n",
       "      <td>0</td>\n",
       "      <td>0</td>\n",
       "      <td>1.0</td>\n",
       "      <td>1.0</td>\n",
       "      <td>id</td>\n",
       "      <td>0</td>\n",
       "    </tr>\n",
       "    <tr>\n",
       "      <th>1</th>\n",
       "      <td>apartment</td>\n",
       "      <td>694</td>\n",
       "      <td>1</td>\n",
       "      <td>1.0</td>\n",
       "      <td>1</td>\n",
       "      <td>1</td>\n",
       "      <td>1</td>\n",
       "      <td>0</td>\n",
       "      <td>0</td>\n",
       "      <td>0</td>\n",
       "      <td>1.0</td>\n",
       "      <td>1.0</td>\n",
       "      <td>co</td>\n",
       "      <td>0</td>\n",
       "    </tr>\n",
       "    <tr>\n",
       "      <th>2</th>\n",
       "      <td>apartment</td>\n",
       "      <td>900</td>\n",
       "      <td>2</td>\n",
       "      <td>2.0</td>\n",
       "      <td>0</td>\n",
       "      <td>0</td>\n",
       "      <td>1</td>\n",
       "      <td>0</td>\n",
       "      <td>0</td>\n",
       "      <td>0</td>\n",
       "      <td>2.0</td>\n",
       "      <td>2.0</td>\n",
       "      <td>va</td>\n",
       "      <td>0</td>\n",
       "    </tr>\n",
       "    <tr>\n",
       "      <th>3</th>\n",
       "      <td>house</td>\n",
       "      <td>1469</td>\n",
       "      <td>3</td>\n",
       "      <td>2.0</td>\n",
       "      <td>1</td>\n",
       "      <td>1</td>\n",
       "      <td>1</td>\n",
       "      <td>0</td>\n",
       "      <td>0</td>\n",
       "      <td>0</td>\n",
       "      <td>1.0</td>\n",
       "      <td>3.0</td>\n",
       "      <td>az</td>\n",
       "      <td>0</td>\n",
       "    </tr>\n",
       "    <tr>\n",
       "      <th>4</th>\n",
       "      <td>apartment</td>\n",
       "      <td>700</td>\n",
       "      <td>1</td>\n",
       "      <td>1.0</td>\n",
       "      <td>1</td>\n",
       "      <td>1</td>\n",
       "      <td>1</td>\n",
       "      <td>0</td>\n",
       "      <td>0</td>\n",
       "      <td>0</td>\n",
       "      <td>1.0</td>\n",
       "      <td>1.0</td>\n",
       "      <td>tn</td>\n",
       "      <td>1</td>\n",
       "    </tr>\n",
       "  </tbody>\n",
       "</table>\n",
       "</div>"
      ],
      "text/plain": [
       "        type  sqfeet  beds  baths  cats_allowed  dogs_allowed  \\\n",
       "0      house    1200     2    2.0             1             1   \n",
       "1  apartment     694     1    1.0             1             1   \n",
       "2  apartment     900     2    2.0             0             0   \n",
       "3      house    1469     3    2.0             1             1   \n",
       "4  apartment     700     1    1.0             1             1   \n",
       "\n",
       "   smoking_allowed  wheelchair_access  electric_vehicle_charge  \\\n",
       "0                1                  0                        0   \n",
       "1                1                  0                        0   \n",
       "2                1                  0                        0   \n",
       "3                1                  0                        0   \n",
       "4                1                  0                        0   \n",
       "\n",
       "   comes_furnished  laundry_options  parking_options state category_price  \n",
       "0                0              1.0              1.0    id              0  \n",
       "1                0              1.0              1.0    co              0  \n",
       "2                0              2.0              2.0    va              0  \n",
       "3                0              1.0              3.0    az              0  \n",
       "4                0              1.0              1.0    tn              1  "
      ]
     },
     "execution_count": 38,
     "metadata": {},
     "output_type": "execute_result"
    }
   ],
   "source": [
    "#Vemos como viene quedando el dataframe hasta este punto\n",
    "train.head()"
   ]
  },
  {
   "attachments": {},
   "cell_type": "markdown",
   "metadata": {},
   "source": [
    "----"
   ]
  },
  {
   "attachments": {},
   "cell_type": "markdown",
   "metadata": {},
   "source": [
    "Trabajamos con las columnas que tenemos hasta aqui:"
   ]
  },
  {
   "attachments": {},
   "cell_type": "markdown",
   "metadata": {},
   "source": [
    "COLUMNA \"TYPE\""
   ]
  },
  {
   "cell_type": "code",
   "execution_count": 39,
   "metadata": {},
   "outputs": [
    {
     "data": {
      "text/plain": [
       "apartment          206490\n",
       "house               25006\n",
       "townhouse           10370\n",
       "condo                4913\n",
       "duplex               3811\n",
       "manufactured         2606\n",
       "cottage/cabin         723\n",
       "loft                  490\n",
       "flat                  425\n",
       "in-law                147\n",
       "land                    8\n",
       "assisted living         2\n",
       "Name: type, dtype: int64"
      ]
     },
     "execution_count": 39,
     "metadata": {},
     "output_type": "execute_result"
    }
   ],
   "source": [
    "train[\"type\"].value_counts()"
   ]
  },
  {
   "attachments": {},
   "cell_type": "markdown",
   "metadata": {},
   "source": [
    "Algunos detalles a tener en cuenta para la categorización:\n",
    "- 1: apartment, flat (vivencia en estructura en comun?)\n",
    "- 2: house, townhouse, condo, duplex, manufactured, cottage/cabin, loft, land (Estructura edilicia separada?)\n",
    "- 3: in-law, assited living (convivencia con terceros en espacio pequeño)"
   ]
  },
  {
   "cell_type": "code",
   "execution_count": 40,
   "metadata": {},
   "outputs": [],
   "source": [
    "train.replace({'type' : { \"apartment\" : 1, \"flat\" : 1}}, inplace=True)\n",
    "train.replace({'type' : { \"house\" : 2, \"townhouse\" : 2, \"condo\" : 2, \"duplex\" : 2, \"manufactured\" : 2, \"cottage/cabin\" : 2, \"loft\" : 2,\"land\" : 2}}, inplace=True)\n",
    "train.replace({'type' : { \"in-law\" : 3, \"assisted living\" : 3}}, inplace=True)"
   ]
  },
  {
   "attachments": {},
   "cell_type": "markdown",
   "metadata": {},
   "source": [
    "COLUMNAS \"DOGS_ALLOWED\" Y \"CATS_ALLOWED\""
   ]
  },
  {
   "attachments": {},
   "cell_type": "markdown",
   "metadata": {},
   "source": [
    "Consierando que es extraño encontrar un espacio donde se permita exlusivamente perro o gato, decidimos unificar esta columna para reducir la dimensionalidad del dataset. \n",
    "\n",
    "Creamos la columna \"animals_allowed\" y luego dropeamos cats_allowed y dogs_allowed"
   ]
  },
  {
   "cell_type": "code",
   "execution_count": 41,
   "metadata": {},
   "outputs": [
    {
     "data": {
      "text/html": [
       "<div>\n",
       "<style scoped>\n",
       "    .dataframe tbody tr th:only-of-type {\n",
       "        vertical-align: middle;\n",
       "    }\n",
       "\n",
       "    .dataframe tbody tr th {\n",
       "        vertical-align: top;\n",
       "    }\n",
       "\n",
       "    .dataframe thead th {\n",
       "        text-align: right;\n",
       "    }\n",
       "</style>\n",
       "<table border=\"1\" class=\"dataframe\">\n",
       "  <thead>\n",
       "    <tr style=\"text-align: right;\">\n",
       "      <th></th>\n",
       "      <th>type</th>\n",
       "      <th>sqfeet</th>\n",
       "      <th>beds</th>\n",
       "      <th>baths</th>\n",
       "      <th>cats_allowed</th>\n",
       "      <th>dogs_allowed</th>\n",
       "      <th>smoking_allowed</th>\n",
       "      <th>wheelchair_access</th>\n",
       "      <th>electric_vehicle_charge</th>\n",
       "      <th>comes_furnished</th>\n",
       "      <th>laundry_options</th>\n",
       "      <th>parking_options</th>\n",
       "      <th>state</th>\n",
       "      <th>category_price</th>\n",
       "    </tr>\n",
       "  </thead>\n",
       "  <tbody>\n",
       "    <tr>\n",
       "      <th>0</th>\n",
       "      <td>2</td>\n",
       "      <td>1200</td>\n",
       "      <td>2</td>\n",
       "      <td>2.0</td>\n",
       "      <td>1</td>\n",
       "      <td>1</td>\n",
       "      <td>1</td>\n",
       "      <td>0</td>\n",
       "      <td>0</td>\n",
       "      <td>0</td>\n",
       "      <td>1.0</td>\n",
       "      <td>1.0</td>\n",
       "      <td>id</td>\n",
       "      <td>0</td>\n",
       "    </tr>\n",
       "    <tr>\n",
       "      <th>1</th>\n",
       "      <td>1</td>\n",
       "      <td>694</td>\n",
       "      <td>1</td>\n",
       "      <td>1.0</td>\n",
       "      <td>1</td>\n",
       "      <td>1</td>\n",
       "      <td>1</td>\n",
       "      <td>0</td>\n",
       "      <td>0</td>\n",
       "      <td>0</td>\n",
       "      <td>1.0</td>\n",
       "      <td>1.0</td>\n",
       "      <td>co</td>\n",
       "      <td>0</td>\n",
       "    </tr>\n",
       "    <tr>\n",
       "      <th>2</th>\n",
       "      <td>1</td>\n",
       "      <td>900</td>\n",
       "      <td>2</td>\n",
       "      <td>2.0</td>\n",
       "      <td>0</td>\n",
       "      <td>0</td>\n",
       "      <td>1</td>\n",
       "      <td>0</td>\n",
       "      <td>0</td>\n",
       "      <td>0</td>\n",
       "      <td>2.0</td>\n",
       "      <td>2.0</td>\n",
       "      <td>va</td>\n",
       "      <td>0</td>\n",
       "    </tr>\n",
       "    <tr>\n",
       "      <th>3</th>\n",
       "      <td>2</td>\n",
       "      <td>1469</td>\n",
       "      <td>3</td>\n",
       "      <td>2.0</td>\n",
       "      <td>1</td>\n",
       "      <td>1</td>\n",
       "      <td>1</td>\n",
       "      <td>0</td>\n",
       "      <td>0</td>\n",
       "      <td>0</td>\n",
       "      <td>1.0</td>\n",
       "      <td>3.0</td>\n",
       "      <td>az</td>\n",
       "      <td>0</td>\n",
       "    </tr>\n",
       "    <tr>\n",
       "      <th>4</th>\n",
       "      <td>1</td>\n",
       "      <td>700</td>\n",
       "      <td>1</td>\n",
       "      <td>1.0</td>\n",
       "      <td>1</td>\n",
       "      <td>1</td>\n",
       "      <td>1</td>\n",
       "      <td>0</td>\n",
       "      <td>0</td>\n",
       "      <td>0</td>\n",
       "      <td>1.0</td>\n",
       "      <td>1.0</td>\n",
       "      <td>tn</td>\n",
       "      <td>1</td>\n",
       "    </tr>\n",
       "  </tbody>\n",
       "</table>\n",
       "</div>"
      ],
      "text/plain": [
       "   type  sqfeet  beds  baths  cats_allowed  dogs_allowed  smoking_allowed  \\\n",
       "0     2    1200     2    2.0             1             1                1   \n",
       "1     1     694     1    1.0             1             1                1   \n",
       "2     1     900     2    2.0             0             0                1   \n",
       "3     2    1469     3    2.0             1             1                1   \n",
       "4     1     700     1    1.0             1             1                1   \n",
       "\n",
       "   wheelchair_access  electric_vehicle_charge  comes_furnished  \\\n",
       "0                  0                        0                0   \n",
       "1                  0                        0                0   \n",
       "2                  0                        0                0   \n",
       "3                  0                        0                0   \n",
       "4                  0                        0                0   \n",
       "\n",
       "   laundry_options  parking_options state category_price  \n",
       "0              1.0              1.0    id              0  \n",
       "1              1.0              1.0    co              0  \n",
       "2              2.0              2.0    va              0  \n",
       "3              1.0              3.0    az              0  \n",
       "4              1.0              1.0    tn              1  "
      ]
     },
     "execution_count": 41,
     "metadata": {},
     "output_type": "execute_result"
    }
   ],
   "source": [
    "train.head()"
   ]
  },
  {
   "cell_type": "code",
   "execution_count": 42,
   "metadata": {},
   "outputs": [],
   "source": [
    "train[\"animals_allowed\"] = train[\"cats_allowed\"] + train[\"dogs_allowed\"]\n",
    "train.replace({'animals_allowed' : { 2 : 1}}, inplace=True)\n",
    "train.drop(columns=[\"cats_allowed\", \"dogs_allowed\"], inplace=True)"
   ]
  },
  {
   "attachments": {},
   "cell_type": "markdown",
   "metadata": {},
   "source": [
    "COLUMNA \"STATE\""
   ]
  },
  {
   "attachments": {},
   "cell_type": "markdown",
   "metadata": {},
   "source": [
    "Utilizamos label_encoder para discretizar"
   ]
  },
  {
   "cell_type": "code",
   "execution_count": 43,
   "metadata": {},
   "outputs": [],
   "source": [
    "from sklearn import preprocessing\n",
    "label_encoder = preprocessing.LabelEncoder()\n",
    "train['state'] = label_encoder.fit_transform(train['state'])"
   ]
  },
  {
   "attachments": {},
   "cell_type": "markdown",
   "metadata": {},
   "source": [
    "--------"
   ]
  },
  {
   "cell_type": "code",
   "execution_count": 44,
   "metadata": {},
   "outputs": [],
   "source": [
    "def plot_corre_heatmap(corr):\n",
    "    '''\n",
    "    Definimos una función para ayudarnos a graficar un heatmap de correlación\n",
    "    '''\n",
    "    plt.figure(figsize=(12,10))\n",
    "    sns.heatmap(corr, cbar = True,  square = False, annot=True, fmt= '.2f'\n",
    "                ,annot_kws={'size': 15},cmap= 'coolwarm')\n",
    "    plt.xticks(rotation = 45)\n",
    "    plt.yticks(rotation = 45)\n",
    "    # Arreglamos un pequeño problema de visualización\n",
    "    b, t = plt.ylim() # discover the values for bottom and top\n",
    "    b += 0.5 # Add 0.5 to the bottom\n",
    "    t -= 0.5 # Subtract 0.5 from the top\n",
    "    plt.ylim(b, t) # update the ylim(bottom, top) values\n",
    "    plt.show()"
   ]
  },
  {
   "cell_type": "code",
   "execution_count": 45,
   "metadata": {},
   "outputs": [
    {
     "name": "stdout",
     "output_type": "stream",
     "text": [
      "<class 'pandas.core.frame.DataFrame'>\n",
      "Int64Index: 254991 entries, 0 to 346478\n",
      "Data columns (total 13 columns):\n",
      " #   Column                   Non-Null Count   Dtype   \n",
      "---  ------                   --------------   -----   \n",
      " 0   type                     254991 non-null  int64   \n",
      " 1   sqfeet                   254991 non-null  int64   \n",
      " 2   beds                     254991 non-null  int64   \n",
      " 3   baths                    254991 non-null  float64 \n",
      " 4   smoking_allowed          254991 non-null  int64   \n",
      " 5   wheelchair_access        254991 non-null  int64   \n",
      " 6   electric_vehicle_charge  254991 non-null  int64   \n",
      " 7   comes_furnished          254991 non-null  int64   \n",
      " 8   laundry_options          254991 non-null  float64 \n",
      " 9   parking_options          254991 non-null  float64 \n",
      " 10  state                    254991 non-null  int32   \n",
      " 11  category_price           254991 non-null  category\n",
      " 12  animals_allowed          254991 non-null  int64   \n",
      "dtypes: category(1), float64(3), int32(1), int64(8)\n",
      "memory usage: 24.6 MB\n"
     ]
    }
   ],
   "source": [
    "train.info()"
   ]
  },
  {
   "cell_type": "code",
   "execution_count": 46,
   "metadata": {},
   "outputs": [
    {
     "name": "stderr",
     "output_type": "stream",
     "text": [
      "C:\\Users\\amysl\\AppData\\Local\\Temp\\ipykernel_32564\\1679882036.py:1: FutureWarning: The default value of numeric_only in DataFrame.corr is deprecated. In a future version, it will default to False. Select only valid columns or specify the value of numeric_only to silence this warning.\n",
      "  corr = train.corr()\n"
     ]
    },
    {
     "data": {
      "image/png": "[encoded data removed]",
      "text/plain": [
       "<Figure size 1200x1000 with 2 Axes>"
      ]
     },
     "metadata": {},
     "output_type": "display_data"
    }
   ],
   "source": [
    "corr = train.corr()\n",
    "plot_corre_heatmap(corr)"
   ]
  },
  {
   "attachments": {},
   "cell_type": "markdown",
   "metadata": {},
   "source": [
    "--------"
   ]
  },
  {
   "attachments": {},
   "cell_type": "markdown",
   "metadata": {},
   "source": [
    "MODELOS:"
   ]
  },
  {
   "cell_type": "code",
   "execution_count": 190,
   "metadata": {},
   "outputs": [],
   "source": [
    "from sklearn.tree import DecisionTreeClassifier \n",
    "from sklearn.model_selection import train_test_split, cross_validate\n",
    "from sklearn.metrics import accuracy_score, recall_score\n",
    "from sklearn.metrics import confusion_matrix, classification_report\n",
    "from IPython.display import clear_output\n",
    "\n",
    "#instancio con depth=5. luego jugar!\n",
    "tree = DecisionTreeClassifier(max_depth = 15, random_state = 42) \n"
   ]
  },
  {
   "cell_type": "code",
   "execution_count": 191,
   "metadata": {},
   "outputs": [],
   "source": [
    "#División de dataset en train y test utilizando train_test_split:\n",
    "#Remuevo de X a variable target:\n",
    "X = train.drop(columns= [\"category_price\"], axis=1)\n",
    "#Adjunto en Y el target:\n",
    "y = train['category_price']\n",
    "X_Train, X_Test, Y_Train, Y_Test = train_test_split(X, y, test_size = 0.20, random_state=42) "
   ]
  },
  {
   "cell_type": "code",
   "execution_count": 192,
   "metadata": {},
   "outputs": [
    {
     "data": {
      "text/html": [
       "<style>#sk-container-id-9 {color: black;background-color: white;}#sk-container-id-9 pre{padding: 0;}#sk-container-id-9 div.sk-toggleable {background-color: white;}#sk-container-id-9 label.sk-toggleable__label {cursor: pointer;display: block;width: 100%;margin-bottom: 0;padding: 0.3em;box-sizing: border-box;text-align: center;}#sk-container-id-9 label.sk-toggleable__label-arrow:before {content: \"▸\";float: left;margin-right: 0.25em;color: #696969;}#sk-container-id-9 label.sk-toggleable__label-arrow:hover:before {color: black;}#sk-container-id-9 div.sk-estimator:hover label.sk-toggleable__label-arrow:before {color: black;}#sk-container-id-9 div.sk-toggleable__content {max-height: 0;max-width: 0;overflow: hidden;text-align: left;background-color: #f0f8ff;}#sk-container-id-9 div.sk-toggleable__content pre {margin: 0.2em;color: black;border-radius: 0.25em;background-color: #f0f8ff;}#sk-container-id-9 input.sk-toggleable__control:checked~div.sk-toggleable__content {max-height: 200px;max-width: 100%;overflow: auto;}#sk-container-id-9 input.sk-toggleable__control:checked~label.sk-toggleable__label-arrow:before {content: \"▾\";}#sk-container-id-9 div.sk-estimator input.sk-toggleable__control:checked~label.sk-toggleable__label {background-color: #d4ebff;}#sk-container-id-9 div.sk-label input.sk-toggleable__control:checked~label.sk-toggleable__label {background-color: #d4ebff;}#sk-container-id-9 input.sk-hidden--visually {border: 0;clip: rect(1px 1px 1px 1px);clip: rect(1px, 1px, 1px, 1px);height: 1px;margin: -1px;overflow: hidden;padding: 0;position: absolute;width: 1px;}#sk-container-id-9 div.sk-estimator {font-family: monospace;background-color: #f0f8ff;border: 1px dotted black;border-radius: 0.25em;box-sizing: border-box;margin-bottom: 0.5em;}#sk-container-id-9 div.sk-estimator:hover {background-color: #d4ebff;}#sk-container-id-9 div.sk-parallel-item::after {content: \"\";width: 100%;border-bottom: 1px solid gray;flex-grow: 1;}#sk-container-id-9 div.sk-label:hover label.sk-toggleable__label {background-color: #d4ebff;}#sk-container-id-9 div.sk-serial::before {content: \"\";position: absolute;border-left: 1px solid gray;box-sizing: border-box;top: 0;bottom: 0;left: 50%;z-index: 0;}#sk-container-id-9 div.sk-serial {display: flex;flex-direction: column;align-items: center;background-color: white;padding-right: 0.2em;padding-left: 0.2em;position: relative;}#sk-container-id-9 div.sk-item {position: relative;z-index: 1;}#sk-container-id-9 div.sk-parallel {display: flex;align-items: stretch;justify-content: center;background-color: white;position: relative;}#sk-container-id-9 div.sk-item::before, #sk-container-id-9 div.sk-parallel-item::before {content: \"\";position: absolute;border-left: 1px solid gray;box-sizing: border-box;top: 0;bottom: 0;left: 50%;z-index: -1;}#sk-container-id-9 div.sk-parallel-item {display: flex;flex-direction: column;z-index: 1;position: relative;background-color: white;}#sk-container-id-9 div.sk-parallel-item:first-child::after {align-self: flex-end;width: 50%;}#sk-container-id-9 div.sk-parallel-item:last-child::after {align-self: flex-start;width: 50%;}#sk-container-id-9 div.sk-parallel-item:only-child::after {width: 0;}#sk-container-id-9 div.sk-dashed-wrapped {border: 1px dashed gray;margin: 0 0.4em 0.5em 0.4em;box-sizing: border-box;padding-bottom: 0.4em;background-color: white;}#sk-container-id-9 div.sk-label label {font-family: monospace;font-weight: bold;display: inline-block;line-height: 1.2em;}#sk-container-id-9 div.sk-label-container {text-align: center;}#sk-container-id-9 div.sk-container {/* jupyter's `normalize.less` sets `[hidden] { display: none; }` but bootstrap.min.css set `[hidden] { display: none !important; }` so we also need the `!important` here to be able to override the default hidden behavior on the sphinx rendered scikit-learn.org. See: https://github.com/scikit-learn/scikit-learn/issues/21755 */display: inline-block !important;position: relative;}#sk-container-id-9 div.sk-text-repr-fallback {display: none;}</style><div id=\"sk-container-id-9\" class=\"sk-top-container\"><div class=\"sk-text-repr-fallback\"><pre>DecisionTreeClassifier(max_depth=15, random_state=42)</pre><b>In a Jupyter environment, please rerun this cell to show the HTML representation or trust the notebook. <br />On GitHub, the HTML representation is unable to render, please try loading this page with nbviewer.org.</b></div><div class=\"sk-container\" hidden><div class=\"sk-item\"><div class=\"sk-estimator sk-toggleable\"><input class=\"sk-toggleable__control sk-hidden--visually\" id=\"sk-estimator-id-9\" type=\"checkbox\" checked><label for=\"sk-estimator-id-9\" class=\"sk-toggleable__label sk-toggleable__label-arrow\">DecisionTreeClassifier</label><div class=\"sk-toggleable__content\"><pre>DecisionTreeClassifier(max_depth=15, random_state=42)</pre></div></div></div></div></div>"
      ],
      "text/plain": [
       "DecisionTreeClassifier(max_depth=15, random_state=42)"
      ]
     },
     "execution_count": 192,
     "metadata": {},
     "output_type": "execute_result"
    }
   ],
   "source": [
    "# Entreno el modelo:\n",
    "\n",
    "tree.fit(X.values,y.values)"
   ]
  },
  {
   "cell_type": "code",
   "execution_count": 193,
   "metadata": {},
   "outputs": [
    {
     "name": "stdout",
     "output_type": "stream",
     "text": [
      "['0' '1']\n",
      "2\n",
      "12\n",
      "[0.01826781 0.3156879  0.03804049 0.04690032 0.02234164 0.00771251\n",
      " 0.00127756 0.01259918 0.10801432 0.0322319  0.37597738 0.02094898]\n",
      "Acurracy: 0.8800467467479245\n"
     ]
    }
   ],
   "source": [
    "#evaluo recall:\n",
    "print(tree.classes_)\n",
    "print(tree.n_classes_)\n",
    "print(tree.max_features_)\n",
    "print(tree.feature_importances_)\n",
    "\n",
    "# la predicccion:\n",
    "y_pred = tree.predict(X.values)\n",
    "\n",
    "print(f\"Acurracy: {accuracy_score(y,y_pred)}\")\n",
    "#print(recall_score(y,y_pred))"
   ]
  },
  {
   "cell_type": "code",
   "execution_count": 194,
   "metadata": {},
   "outputs": [],
   "source": [
    "test = pq.read_table(r'.\\datasets\\raw\\test.parquet')"
   ]
  },
  {
   "cell_type": "code",
   "execution_count": 195,
   "metadata": {},
   "outputs": [],
   "source": [
    "test = test.to_pandas()"
   ]
  },
  {
   "cell_type": "code",
   "execution_count": 196,
   "metadata": {},
   "outputs": [],
   "source": [
    "#Columna laundry_options\n",
    "test.replace({'laundry_options' : { 'w/d in unit' : 1, 'w/d hookups' : 2,  \"no laundry on site\" : 3 , \"laundry on site\" : 3, \"laundry in bldg\" : 3 }}, inplace=True)\n",
    "test[\"laundry_options\"].fillna(3, inplace = True)\n",
    "\n",
    "#Columna parking_options\n",
    "test.replace({'parking_options' : { \"attached garage\" : 1, \"carport\" : 1, \"detached garage\" : 1, \"valet parking\" : 1}}, inplace=True)\n",
    "test.replace({'parking_options' : { \"off-street parking\" : 2}}, inplace=True)\n",
    "test.replace({'parking_options' : { \"street parking\" : 3, \"no parking\" : 3}}, inplace=True)\n",
    "test[\"parking_options\"].fillna(3, inplace = True)\n",
    "\n",
    "#Borrado de columnas sin utilizar:\n",
    "test.drop(columns=[\"description\"], inplace = True)\n",
    "test.drop(columns=[\"lat\", \"long\", \"id\", \"url\", \"region\", \"region_url\", \"image_url\"], inplace=True)\n",
    "\n",
    "#Columna \"type\":\n",
    "test.replace({'type' : { \"apartment\" : 1, \"flat\" : 1}}, inplace=True)\n",
    "test.replace({'type' : { \"house\" : 2, \"townhouse\" : 2, \"condo\" : 2, \"duplex\" : 2, \"manufactured\" : 2, \"cottage/cabin\" : 2, \"loft\" : 2,\"land\" : 2}}, inplace=True)\n",
    "test.replace({'type' : { \"in-law\" : 3, \"assisted living\" : 3}}, inplace=True)\n",
    "\n",
    "#Columnas \"dogs_allowed\" y \"cats_allowed\" + creacion de \"animals_allowed\"\n",
    "test[\"animals_allowed\"] = test[\"cats_allowed\"] + test[\"dogs_allowed\"]\n",
    "test.replace({'animals_allowed' : { 2 : 1}}, inplace=True)\n",
    "test.drop(columns=[\"cats_allowed\", \"dogs_allowed\"], inplace=True)\n",
    "\n",
    "#Columna \"State\"\n",
    "from sklearn import preprocessing\n",
    "label_encoder = preprocessing.LabelEncoder()\n",
    "test['state'] = label_encoder.fit_transform(test['state'])"
   ]
  },
  {
   "cell_type": "code",
   "execution_count": 197,
   "metadata": {},
   "outputs": [
    {
     "data": {
      "text/plain": [
       "(254991, 13)"
      ]
     },
     "execution_count": 197,
     "metadata": {},
     "output_type": "execute_result"
    }
   ],
   "source": [
    "train.shape"
   ]
  },
  {
   "cell_type": "code",
   "execution_count": 198,
   "metadata": {},
   "outputs": [
    {
     "data": {
      "text/plain": [
       "(38498, 12)"
      ]
     },
     "execution_count": 198,
     "metadata": {},
     "output_type": "execute_result"
    }
   ],
   "source": [
    "test.shape"
   ]
  },
  {
   "cell_type": "code",
   "execution_count": 199,
   "metadata": {},
   "outputs": [
    {
     "name": "stdout",
     "output_type": "stream",
     "text": [
      "<class 'pandas.core.frame.DataFrame'>\n",
      "RangeIndex: 38498 entries, 0 to 38497\n",
      "Data columns (total 12 columns):\n",
      " #   Column                   Non-Null Count  Dtype  \n",
      "---  ------                   --------------  -----  \n",
      " 0   type                     38498 non-null  int64  \n",
      " 1   sqfeet                   38498 non-null  int64  \n",
      " 2   beds                     38498 non-null  int64  \n",
      " 3   baths                    38498 non-null  float64\n",
      " 4   smoking_allowed          38498 non-null  int64  \n",
      " 5   wheelchair_access        38498 non-null  int64  \n",
      " 6   electric_vehicle_charge  38498 non-null  int64  \n",
      " 7   comes_furnished          38498 non-null  int64  \n",
      " 8   laundry_options          38498 non-null  float64\n",
      " 9   parking_options          38498 non-null  float64\n",
      " 10  state                    38498 non-null  int32  \n",
      " 11  animals_allowed          38498 non-null  int64  \n",
      "dtypes: float64(3), int32(1), int64(8)\n",
      "memory usage: 3.4 MB\n"
     ]
    }
   ],
   "source": [
    "test.info()"
   ]
  },
  {
   "cell_type": "code",
   "execution_count": 200,
   "metadata": {},
   "outputs": [],
   "source": [
    "X=test\n",
    "y_final=tree.predict(X.values)"
   ]
  },
  {
   "cell_type": "code",
   "execution_count": 201,
   "metadata": {},
   "outputs": [],
   "source": [
    "prediction  = pd.DataFrame(y_final, columns=['pred'])"
   ]
  },
  {
   "cell_type": "code",
   "execution_count": 202,
   "metadata": {},
   "outputs": [
    {
     "data": {
      "text/html": [
       "<div>\n",
       "<style scoped>\n",
       "    .dataframe tbody tr th:only-of-type {\n",
       "        vertical-align: middle;\n",
       "    }\n",
       "\n",
       "    .dataframe tbody tr th {\n",
       "        vertical-align: top;\n",
       "    }\n",
       "\n",
       "    .dataframe thead th {\n",
       "        text-align: right;\n",
       "    }\n",
       "</style>\n",
       "<table border=\"1\" class=\"dataframe\">\n",
       "  <thead>\n",
       "    <tr style=\"text-align: right;\">\n",
       "      <th></th>\n",
       "      <th>type</th>\n",
       "      <th>sqfeet</th>\n",
       "      <th>beds</th>\n",
       "      <th>baths</th>\n",
       "      <th>smoking_allowed</th>\n",
       "      <th>wheelchair_access</th>\n",
       "      <th>electric_vehicle_charge</th>\n",
       "      <th>comes_furnished</th>\n",
       "      <th>laundry_options</th>\n",
       "      <th>parking_options</th>\n",
       "      <th>state</th>\n",
       "      <th>animals_allowed</th>\n",
       "    </tr>\n",
       "  </thead>\n",
       "  <tbody>\n",
       "    <tr>\n",
       "      <th>0</th>\n",
       "      <td>2</td>\n",
       "      <td>1344</td>\n",
       "      <td>3</td>\n",
       "      <td>2.0</td>\n",
       "      <td>1</td>\n",
       "      <td>0</td>\n",
       "      <td>0</td>\n",
       "      <td>0</td>\n",
       "      <td>1.0</td>\n",
       "      <td>2.0</td>\n",
       "      <td>22</td>\n",
       "      <td>0</td>\n",
       "    </tr>\n",
       "    <tr>\n",
       "      <th>1</th>\n",
       "      <td>1</td>\n",
       "      <td>1050</td>\n",
       "      <td>2</td>\n",
       "      <td>1.0</td>\n",
       "      <td>1</td>\n",
       "      <td>0</td>\n",
       "      <td>0</td>\n",
       "      <td>0</td>\n",
       "      <td>2.0</td>\n",
       "      <td>2.0</td>\n",
       "      <td>46</td>\n",
       "      <td>0</td>\n",
       "    </tr>\n",
       "    <tr>\n",
       "      <th>2</th>\n",
       "      <td>1</td>\n",
       "      <td>1150</td>\n",
       "      <td>2</td>\n",
       "      <td>2.0</td>\n",
       "      <td>1</td>\n",
       "      <td>1</td>\n",
       "      <td>0</td>\n",
       "      <td>0</td>\n",
       "      <td>1.0</td>\n",
       "      <td>1.0</td>\n",
       "      <td>22</td>\n",
       "      <td>1</td>\n",
       "    </tr>\n",
       "    <tr>\n",
       "      <th>3</th>\n",
       "      <td>1</td>\n",
       "      <td>1280</td>\n",
       "      <td>2</td>\n",
       "      <td>2.5</td>\n",
       "      <td>0</td>\n",
       "      <td>0</td>\n",
       "      <td>0</td>\n",
       "      <td>0</td>\n",
       "      <td>1.0</td>\n",
       "      <td>1.0</td>\n",
       "      <td>5</td>\n",
       "      <td>1</td>\n",
       "    </tr>\n",
       "    <tr>\n",
       "      <th>4</th>\n",
       "      <td>1</td>\n",
       "      <td>783</td>\n",
       "      <td>2</td>\n",
       "      <td>1.0</td>\n",
       "      <td>1</td>\n",
       "      <td>0</td>\n",
       "      <td>0</td>\n",
       "      <td>0</td>\n",
       "      <td>3.0</td>\n",
       "      <td>3.0</td>\n",
       "      <td>45</td>\n",
       "      <td>1</td>\n",
       "    </tr>\n",
       "    <tr>\n",
       "      <th>...</th>\n",
       "      <td>...</td>\n",
       "      <td>...</td>\n",
       "      <td>...</td>\n",
       "      <td>...</td>\n",
       "      <td>...</td>\n",
       "      <td>...</td>\n",
       "      <td>...</td>\n",
       "      <td>...</td>\n",
       "      <td>...</td>\n",
       "      <td>...</td>\n",
       "      <td>...</td>\n",
       "      <td>...</td>\n",
       "    </tr>\n",
       "    <tr>\n",
       "      <th>38493</th>\n",
       "      <td>1</td>\n",
       "      <td>1180</td>\n",
       "      <td>2</td>\n",
       "      <td>2.0</td>\n",
       "      <td>0</td>\n",
       "      <td>1</td>\n",
       "      <td>0</td>\n",
       "      <td>0</td>\n",
       "      <td>1.0</td>\n",
       "      <td>1.0</td>\n",
       "      <td>1</td>\n",
       "      <td>1</td>\n",
       "    </tr>\n",
       "    <tr>\n",
       "      <th>38494</th>\n",
       "      <td>1</td>\n",
       "      <td>1138</td>\n",
       "      <td>3</td>\n",
       "      <td>2.0</td>\n",
       "      <td>1</td>\n",
       "      <td>0</td>\n",
       "      <td>0</td>\n",
       "      <td>0</td>\n",
       "      <td>2.0</td>\n",
       "      <td>2.0</td>\n",
       "      <td>43</td>\n",
       "      <td>1</td>\n",
       "    </tr>\n",
       "    <tr>\n",
       "      <th>38495</th>\n",
       "      <td>1</td>\n",
       "      <td>743</td>\n",
       "      <td>1</td>\n",
       "      <td>1.0</td>\n",
       "      <td>1</td>\n",
       "      <td>0</td>\n",
       "      <td>0</td>\n",
       "      <td>0</td>\n",
       "      <td>1.0</td>\n",
       "      <td>2.0</td>\n",
       "      <td>9</td>\n",
       "      <td>1</td>\n",
       "    </tr>\n",
       "    <tr>\n",
       "      <th>38496</th>\n",
       "      <td>2</td>\n",
       "      <td>1276</td>\n",
       "      <td>3</td>\n",
       "      <td>2.0</td>\n",
       "      <td>0</td>\n",
       "      <td>0</td>\n",
       "      <td>0</td>\n",
       "      <td>0</td>\n",
       "      <td>2.0</td>\n",
       "      <td>1.0</td>\n",
       "      <td>3</td>\n",
       "      <td>0</td>\n",
       "    </tr>\n",
       "    <tr>\n",
       "      <th>38497</th>\n",
       "      <td>1</td>\n",
       "      <td>687</td>\n",
       "      <td>1</td>\n",
       "      <td>1.0</td>\n",
       "      <td>1</td>\n",
       "      <td>0</td>\n",
       "      <td>0</td>\n",
       "      <td>0</td>\n",
       "      <td>3.0</td>\n",
       "      <td>2.0</td>\n",
       "      <td>10</td>\n",
       "      <td>1</td>\n",
       "    </tr>\n",
       "  </tbody>\n",
       "</table>\n",
       "<p>38498 rows × 12 columns</p>\n",
       "</div>"
      ],
      "text/plain": [
       "       type  sqfeet  beds  baths  smoking_allowed  wheelchair_access  \\\n",
       "0         2    1344     3    2.0                1                  0   \n",
       "1         1    1050     2    1.0                1                  0   \n",
       "2         1    1150     2    2.0                1                  1   \n",
       "3         1    1280     2    2.5                0                  0   \n",
       "4         1     783     2    1.0                1                  0   \n",
       "...     ...     ...   ...    ...              ...                ...   \n",
       "38493     1    1180     2    2.0                0                  1   \n",
       "38494     1    1138     3    2.0                1                  0   \n",
       "38495     1     743     1    1.0                1                  0   \n",
       "38496     2    1276     3    2.0                0                  0   \n",
       "38497     1     687     1    1.0                1                  0   \n",
       "\n",
       "       electric_vehicle_charge  comes_furnished  laundry_options  \\\n",
       "0                            0                0              1.0   \n",
       "1                            0                0              2.0   \n",
       "2                            0                0              1.0   \n",
       "3                            0                0              1.0   \n",
       "4                            0                0              3.0   \n",
       "...                        ...              ...              ...   \n",
       "38493                        0                0              1.0   \n",
       "38494                        0                0              2.0   \n",
       "38495                        0                0              1.0   \n",
       "38496                        0                0              2.0   \n",
       "38497                        0                0              3.0   \n",
       "\n",
       "       parking_options  state  animals_allowed  \n",
       "0                  2.0     22                0  \n",
       "1                  2.0     46                0  \n",
       "2                  1.0     22                1  \n",
       "3                  1.0      5                1  \n",
       "4                  3.0     45                1  \n",
       "...                ...    ...              ...  \n",
       "38493              1.0      1                1  \n",
       "38494              2.0     43                1  \n",
       "38495              2.0      9                1  \n",
       "38496              1.0      3                0  \n",
       "38497              2.0     10                1  \n",
       "\n",
       "[38498 rows x 12 columns]"
      ]
     },
     "execution_count": 202,
     "metadata": {},
     "output_type": "execute_result"
    }
   ],
   "source": [
    "test"
   ]
  },
  {
   "cell_type": "code",
   "execution_count": 203,
   "metadata": {},
   "outputs": [
    {
     "data": {
      "text/html": [
       "<div>\n",
       "<style scoped>\n",
       "    .dataframe tbody tr th:only-of-type {\n",
       "        vertical-align: middle;\n",
       "    }\n",
       "\n",
       "    .dataframe tbody tr th {\n",
       "        vertical-align: top;\n",
       "    }\n",
       "\n",
       "    .dataframe thead th {\n",
       "        text-align: right;\n",
       "    }\n",
       "</style>\n",
       "<table border=\"1\" class=\"dataframe\">\n",
       "  <thead>\n",
       "    <tr style=\"text-align: right;\">\n",
       "      <th></th>\n",
       "      <th>pred</th>\n",
       "    </tr>\n",
       "  </thead>\n",
       "  <tbody>\n",
       "    <tr>\n",
       "      <th>0</th>\n",
       "      <td>0</td>\n",
       "    </tr>\n",
       "    <tr>\n",
       "      <th>1</th>\n",
       "      <td>0</td>\n",
       "    </tr>\n",
       "    <tr>\n",
       "      <th>2</th>\n",
       "      <td>0</td>\n",
       "    </tr>\n",
       "    <tr>\n",
       "      <th>3</th>\n",
       "      <td>0</td>\n",
       "    </tr>\n",
       "    <tr>\n",
       "      <th>4</th>\n",
       "      <td>0</td>\n",
       "    </tr>\n",
       "    <tr>\n",
       "      <th>...</th>\n",
       "      <td>...</td>\n",
       "    </tr>\n",
       "    <tr>\n",
       "      <th>38493</th>\n",
       "      <td>0</td>\n",
       "    </tr>\n",
       "    <tr>\n",
       "      <th>38494</th>\n",
       "      <td>1</td>\n",
       "    </tr>\n",
       "    <tr>\n",
       "      <th>38495</th>\n",
       "      <td>0</td>\n",
       "    </tr>\n",
       "    <tr>\n",
       "      <th>38496</th>\n",
       "      <td>0</td>\n",
       "    </tr>\n",
       "    <tr>\n",
       "      <th>38497</th>\n",
       "      <td>1</td>\n",
       "    </tr>\n",
       "  </tbody>\n",
       "</table>\n",
       "<p>38498 rows × 1 columns</p>\n",
       "</div>"
      ],
      "text/plain": [
       "      pred\n",
       "0        0\n",
       "1        0\n",
       "2        0\n",
       "3        0\n",
       "4        0\n",
       "...    ...\n",
       "38493    0\n",
       "38494    1\n",
       "38495    0\n",
       "38496    0\n",
       "38497    1\n",
       "\n",
       "[38498 rows x 1 columns]"
      ]
     },
     "execution_count": 203,
     "metadata": {},
     "output_type": "execute_result"
    }
   ],
   "source": [
    "prediction"
   ]
  },
  {
   "cell_type": "code",
   "execution_count": 204,
   "metadata": {},
   "outputs": [],
   "source": [
    "prediction.to_csv('amysler.csv', index=False)"
   ]
  },
  {
   "cell_type": "code",
   "execution_count": 205,
   "metadata": {},
   "outputs": [
    {
     "data": {
      "text/plain": [
       "0    20989\n",
       "1    17509\n",
       "Name: pred, dtype: int64"
      ]
     },
     "execution_count": 205,
     "metadata": {},
     "output_type": "execute_result"
    }
   ],
   "source": [
    "prediction[\"pred\"].value_counts()"
   ]
  }
 ],
 "metadata": {
  "kernelspec": {
   "display_name": "Python 3",
   "language": "python",
   "name": "python3"
  },
  "language_info": {
   "codemirror_mode": {
    "name": "ipython",
    "version": 3
   },
   "file_extension": ".py",
   "mimetype": "text/x-python",
   "name": "python",
   "nbconvert_exporter": "python",
   "pygments_lexer": "ipython3",
   "version": "3.10.6"
  },
  "orig_nbformat": 4,
  "vscode": {
   "interpreter": {
    "hash": "64591f056784975da7a54cf5626d63a0be59970f3f9cceaab76df64e7e8b2b2d"
   }
  }
 },
 "nbformat": 4,
 "nbformat_minor": 2
}
